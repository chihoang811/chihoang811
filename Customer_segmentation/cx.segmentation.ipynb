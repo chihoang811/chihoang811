{
 "cells": [
  {
   "cell_type": "markdown",
   "source": [
    "### Loading necessary libraries (pandas, matplotlib)"
   ],
   "metadata": {
    "collapsed": false
   },
   "id": "ee2e9029a162fb61"
  },
  {
   "cell_type": "code",
   "execution_count": 1,
   "outputs": [],
   "source": [
    "import pandas as pd\n",
    "import matplotlib.pyplot as plt\n",
    "from sklearn.preprocessing import StandardScaler\n",
    "from sklearn.cluster import KMeans\n",
    "import plotly.express as px"
   ],
   "metadata": {
    "collapsed": false,
    "ExecuteTime": {
     "end_time": "2024-06-03T22:16:29.785708800Z",
     "start_time": "2024-06-03T22:16:13.805640200Z"
    }
   },
   "id": "initial_id"
  },
  {
   "cell_type": "markdown",
   "source": [
    "### Loading and sorting the original dataset"
   ],
   "metadata": {
    "collapsed": false
   },
   "id": "88b2f4eeb2ea49c7"
  },
  {
   "cell_type": "code",
   "execution_count": 2,
   "outputs": [],
   "source": [
    "df = pd.read_csv('orders.csv')"
   ],
   "metadata": {
    "collapsed": false,
    "ExecuteTime": {
     "end_time": "2024-06-03T22:17:12.877978Z",
     "start_time": "2024-06-03T22:16:29.806555700Z"
    }
   },
   "id": "675ec5390c571878"
  },
  {
   "cell_type": "code",
   "execution_count": 3,
   "outputs": [],
   "source": [
    "# Change the format of the column \"date\"\n",
    "df['date'] = pd.to_datetime(df['date'], format='%Y%m%d')"
   ],
   "metadata": {
    "collapsed": false,
    "ExecuteTime": {
     "end_time": "2024-06-03T22:17:14.119052400Z",
     "start_time": "2024-06-03T22:17:13.026097100Z"
    }
   },
   "id": "5d75f77ad51fa8f8"
  },
  {
   "cell_type": "code",
   "execution_count": 4,
   "outputs": [
    {
     "data": {
      "text/plain": "              date                CustomerId     country  \\\n1286734 2022-03-17  0xcPZa4/LE/mLcwh3sY8qQ==       Italy   \n3575015 2022-03-17  5Zthk91X4guopgu26Bcn6g==  Mozambique   \n270794  2022-03-17  CcX6OhTiLaIgELqd1z+0Kw==      France   \n742856  2022-03-17  so4jpRsAZKQx34MZOxChDw==      France   \n3301761 2022-03-17  UHrST3r/07A4Fx+EmBGVMA==      France   \n1854281 2022-03-17  r7yhZArVnx2UsjtVBosXmA==       Italy   \n388539  2022-03-17  IXYfginqnJzoWQwJSAjjNQ==      France   \n3958513 2022-03-17  lEn3YiqhoN5zlWj4lFegyQ==       Italy   \n3388584 2022-03-17  XjFYzxqkz+CxF0WLz4Ooig==       Spain   \n617493  2022-03-17  LI3wDmo8lWROZs4O/NThRw==     Austria   \n\n                        InvoiceId                       SKU  productPrice  \\\n1286734  Y58OjBdWFko4aOS/w2rWJg==  kX00C83/MbxwSUrAhl5G3w==         10.19   \n3575015  PpPvi9JOncaly6dFlUOpDw==  U/EJb58YXdxQqk19XxtSXA==         23.97   \n270794   F03IrXut+S11SaaTPVwd9A==  Lfjws/JhrpyRoHlYRUMxtg==         20.97   \n742856   23mNfmBU+z1N1JmldraEgA==  gkh0RAUtlD0VaIUHDHGg0w==          5.99   \n3301761  rPn3NCeownJ2uEWusYahuQ==  we5PrOnsGbAH2YbAmtNMbQ==         17.97   \n1854281  i6jmAjnvu8PWVNtdFfa/mA==  CcMJ2gRS7yCd551qKY7LUg==         14.98   \n388539   0jbXhCL4cqvyKyJEb1PuNw==  /ZbUMwpxtog/UB5FmESKFA==          5.24   \n3958513  7gM7zzhELTOaf2MoXnp1JA==  CcMJ2gRS7yCd551qKY7LUg==         29.97   \n3388584  z1FOIxPyAx0rY+4A9BhE/A==  d5YvsykEq4HMp6NezWNS+w==         29.97   \n617493   acBMAyVu91FgPfZ+KdU8bg==  cc0Q1y0uyEzxaDC9eAtt4w==          3.15   \n\n         productQuantity  \n1286734                1  \n3575015               12  \n270794                 2  \n742856                 1  \n3301761                2  \n1854281                1  \n388539                 1  \n3958513                2  \n3388584                2  \n617493                 1  ",
      "text/html": "<div>\n<style scoped>\n    .dataframe tbody tr th:only-of-type {\n        vertical-align: middle;\n    }\n\n    .dataframe tbody tr th {\n        vertical-align: top;\n    }\n\n    .dataframe thead th {\n        text-align: right;\n    }\n</style>\n<table border=\"1\" class=\"dataframe\">\n  <thead>\n    <tr style=\"text-align: right;\">\n      <th></th>\n      <th>date</th>\n      <th>CustomerId</th>\n      <th>country</th>\n      <th>InvoiceId</th>\n      <th>SKU</th>\n      <th>productPrice</th>\n      <th>productQuantity</th>\n    </tr>\n  </thead>\n  <tbody>\n    <tr>\n      <th>1286734</th>\n      <td>2022-03-17</td>\n      <td>0xcPZa4/LE/mLcwh3sY8qQ==</td>\n      <td>Italy</td>\n      <td>Y58OjBdWFko4aOS/w2rWJg==</td>\n      <td>kX00C83/MbxwSUrAhl5G3w==</td>\n      <td>10.19</td>\n      <td>1</td>\n    </tr>\n    <tr>\n      <th>3575015</th>\n      <td>2022-03-17</td>\n      <td>5Zthk91X4guopgu26Bcn6g==</td>\n      <td>Mozambique</td>\n      <td>PpPvi9JOncaly6dFlUOpDw==</td>\n      <td>U/EJb58YXdxQqk19XxtSXA==</td>\n      <td>23.97</td>\n      <td>12</td>\n    </tr>\n    <tr>\n      <th>270794</th>\n      <td>2022-03-17</td>\n      <td>CcX6OhTiLaIgELqd1z+0Kw==</td>\n      <td>France</td>\n      <td>F03IrXut+S11SaaTPVwd9A==</td>\n      <td>Lfjws/JhrpyRoHlYRUMxtg==</td>\n      <td>20.97</td>\n      <td>2</td>\n    </tr>\n    <tr>\n      <th>742856</th>\n      <td>2022-03-17</td>\n      <td>so4jpRsAZKQx34MZOxChDw==</td>\n      <td>France</td>\n      <td>23mNfmBU+z1N1JmldraEgA==</td>\n      <td>gkh0RAUtlD0VaIUHDHGg0w==</td>\n      <td>5.99</td>\n      <td>1</td>\n    </tr>\n    <tr>\n      <th>3301761</th>\n      <td>2022-03-17</td>\n      <td>UHrST3r/07A4Fx+EmBGVMA==</td>\n      <td>France</td>\n      <td>rPn3NCeownJ2uEWusYahuQ==</td>\n      <td>we5PrOnsGbAH2YbAmtNMbQ==</td>\n      <td>17.97</td>\n      <td>2</td>\n    </tr>\n    <tr>\n      <th>1854281</th>\n      <td>2022-03-17</td>\n      <td>r7yhZArVnx2UsjtVBosXmA==</td>\n      <td>Italy</td>\n      <td>i6jmAjnvu8PWVNtdFfa/mA==</td>\n      <td>CcMJ2gRS7yCd551qKY7LUg==</td>\n      <td>14.98</td>\n      <td>1</td>\n    </tr>\n    <tr>\n      <th>388539</th>\n      <td>2022-03-17</td>\n      <td>IXYfginqnJzoWQwJSAjjNQ==</td>\n      <td>France</td>\n      <td>0jbXhCL4cqvyKyJEb1PuNw==</td>\n      <td>/ZbUMwpxtog/UB5FmESKFA==</td>\n      <td>5.24</td>\n      <td>1</td>\n    </tr>\n    <tr>\n      <th>3958513</th>\n      <td>2022-03-17</td>\n      <td>lEn3YiqhoN5zlWj4lFegyQ==</td>\n      <td>Italy</td>\n      <td>7gM7zzhELTOaf2MoXnp1JA==</td>\n      <td>CcMJ2gRS7yCd551qKY7LUg==</td>\n      <td>29.97</td>\n      <td>2</td>\n    </tr>\n    <tr>\n      <th>3388584</th>\n      <td>2022-03-17</td>\n      <td>XjFYzxqkz+CxF0WLz4Ooig==</td>\n      <td>Spain</td>\n      <td>z1FOIxPyAx0rY+4A9BhE/A==</td>\n      <td>d5YvsykEq4HMp6NezWNS+w==</td>\n      <td>29.97</td>\n      <td>2</td>\n    </tr>\n    <tr>\n      <th>617493</th>\n      <td>2022-03-17</td>\n      <td>LI3wDmo8lWROZs4O/NThRw==</td>\n      <td>Austria</td>\n      <td>acBMAyVu91FgPfZ+KdU8bg==</td>\n      <td>cc0Q1y0uyEzxaDC9eAtt4w==</td>\n      <td>3.15</td>\n      <td>1</td>\n    </tr>\n  </tbody>\n</table>\n</div>"
     },
     "execution_count": 4,
     "metadata": {},
     "output_type": "execute_result"
    }
   ],
   "source": [
    "# Sort the dataset in descending order by date\n",
    "df= df.sort_values(by='date', ascending=False)\n",
    "# Remove duplicate invoices\n",
    "df = df.drop_duplicates(subset='InvoiceId')\n",
    "df.head(10)"
   ],
   "metadata": {
    "collapsed": false,
    "ExecuteTime": {
     "end_time": "2024-06-03T22:17:32.127912800Z",
     "start_time": "2024-06-03T22:17:14.143919Z"
    }
   },
   "id": "b72607d3223e6286"
  },
  {
   "cell_type": "code",
   "execution_count": 5,
   "outputs": [
    {
     "data": {
      "text/plain": "country\nFrance                   240777\nItaly                    226870\nSpain                     73389\nUkraine                   58396\nUnited Kingdom            38700\n                          ...  \nSt. Pierre & Miquelon         1\nSierra Leone                  1\nAnguilla                      1\nMyanmar (Burma)               1\nSouth Sudan                   1\nName: count, Length: 197, dtype: int64"
     },
     "execution_count": 5,
     "metadata": {},
     "output_type": "execute_result"
    }
   ],
   "source": [
    "# Count the number of orders by country\n",
    "df.country.value_counts()"
   ],
   "metadata": {
    "collapsed": false,
    "ExecuteTime": {
     "end_time": "2024-06-03T22:17:32.637532800Z",
     "start_time": "2024-06-03T22:17:32.124545700Z"
    }
   },
   "id": "eb36475912a47689"
  },
  {
   "cell_type": "code",
   "execution_count": 6,
   "outputs": [
    {
     "data": {
      "text/plain": "date               datetime64[ns]\nCustomerId                 object\ncountry                    object\nInvoiceId                  object\nSKU                        object\nproductPrice              float64\nproductQuantity             int64\ndtype: object"
     },
     "execution_count": 6,
     "metadata": {},
     "output_type": "execute_result"
    }
   ],
   "source": [
    "# Check the type of the columns\n",
    "df.dtypes"
   ],
   "metadata": {
    "collapsed": false,
    "ExecuteTime": {
     "end_time": "2024-06-03T22:17:32.639537800Z",
     "start_time": "2024-06-03T22:17:32.382593400Z"
    }
   },
   "id": "46f961a10172bd2c"
  },
  {
   "cell_type": "markdown",
   "source": [
    "### RFM Calculation (RFM stands for Recency, Frequency, Monetary)"
   ],
   "metadata": {
    "collapsed": false
   },
   "id": "31a833305b32bfd"
  },
  {
   "cell_type": "markdown",
   "source": [
    "#### Recency"
   ],
   "metadata": {
    "collapsed": false
   },
   "id": "cc42466cbe831955"
  },
  {
   "cell_type": "code",
   "execution_count": 7,
   "outputs": [
    {
     "data": {
      "text/plain": "                          recency_days\nCustomerId                            \n+++SJgx/2IJ+dXq7vF8COg==           124\n+++aKiAiXhTfaqCLC/kyWA==           381\n++/G67YHZTMKdpvANeYPLw==           442\n++/GTDXvJzF11ZIUz81SPg==           217\n++0Dxza60/nPDbfORBYuuA==            34\n...                                ...\nzzyyHmcBdlPu2LT05kFnrQ==           247\nzzz2aWARN6OJELfdgOZpWw==            50\nzzzCCNCA1718e2kRryHpJQ==           380\nzzzj3hW4oytUbaZbp6hqiw==           392\nzzzkp+wC5LHXLSmDg2F9Fg==           248\n\n[525342 rows x 1 columns]",
      "text/html": "<div>\n<style scoped>\n    .dataframe tbody tr th:only-of-type {\n        vertical-align: middle;\n    }\n\n    .dataframe tbody tr th {\n        vertical-align: top;\n    }\n\n    .dataframe thead th {\n        text-align: right;\n    }\n</style>\n<table border=\"1\" class=\"dataframe\">\n  <thead>\n    <tr style=\"text-align: right;\">\n      <th></th>\n      <th>recency_days</th>\n    </tr>\n    <tr>\n      <th>CustomerId</th>\n      <th></th>\n    </tr>\n  </thead>\n  <tbody>\n    <tr>\n      <th>+++SJgx/2IJ+dXq7vF8COg==</th>\n      <td>124</td>\n    </tr>\n    <tr>\n      <th>+++aKiAiXhTfaqCLC/kyWA==</th>\n      <td>381</td>\n    </tr>\n    <tr>\n      <th>++/G67YHZTMKdpvANeYPLw==</th>\n      <td>442</td>\n    </tr>\n    <tr>\n      <th>++/GTDXvJzF11ZIUz81SPg==</th>\n      <td>217</td>\n    </tr>\n    <tr>\n      <th>++0Dxza60/nPDbfORBYuuA==</th>\n      <td>34</td>\n    </tr>\n    <tr>\n      <th>...</th>\n      <td>...</td>\n    </tr>\n    <tr>\n      <th>zzyyHmcBdlPu2LT05kFnrQ==</th>\n      <td>247</td>\n    </tr>\n    <tr>\n      <th>zzz2aWARN6OJELfdgOZpWw==</th>\n      <td>50</td>\n    </tr>\n    <tr>\n      <th>zzzCCNCA1718e2kRryHpJQ==</th>\n      <td>380</td>\n    </tr>\n    <tr>\n      <th>zzzj3hW4oytUbaZbp6hqiw==</th>\n      <td>392</td>\n    </tr>\n    <tr>\n      <th>zzzkp+wC5LHXLSmDg2F9Fg==</th>\n      <td>248</td>\n    </tr>\n  </tbody>\n</table>\n<p>525342 rows × 1 columns</p>\n</div>"
     },
     "execution_count": 7,
     "metadata": {},
     "output_type": "execute_result"
    }
   ],
   "source": [
    "# Define the reference day (the last date recorded in the original dataset is \"2022-17-03\")\n",
    "day = pd.to_datetime('2022-04-01')\n",
    "\n",
    "# Calculate Recency value (The number of days after customers' latest order)\n",
    "recency = df.groupby('CustomerId').agg(\n",
    "    recency_days=pd.NamedAgg(column='date', aggfunc=lambda x: (day - x.max()).days)\n",
    ")\n",
    "recency"
   ],
   "metadata": {
    "collapsed": false,
    "ExecuteTime": {
     "end_time": "2024-06-03T22:21:01.929039100Z",
     "start_time": "2024-06-03T22:17:32.423274500Z"
    }
   },
   "id": "1ecf9160385e9cf8"
  },
  {
   "cell_type": "markdown",
   "source": [
    "#### Frequency"
   ],
   "metadata": {
    "collapsed": false
   },
   "id": "826505b67e78a3b5"
  },
  {
   "cell_type": "code",
   "execution_count": 8,
   "outputs": [
    {
     "data": {
      "text/plain": "                          InvoiceId\nCustomerId                         \n+++SJgx/2IJ+dXq7vF8COg==          1\n+++aKiAiXhTfaqCLC/kyWA==          1\n++/G67YHZTMKdpvANeYPLw==          1\n++/GTDXvJzF11ZIUz81SPg==          1\n++0Dxza60/nPDbfORBYuuA==          1\n...                             ...\nzzyyHmcBdlPu2LT05kFnrQ==          1\nzzz2aWARN6OJELfdgOZpWw==          1\nzzzCCNCA1718e2kRryHpJQ==          1\nzzzj3hW4oytUbaZbp6hqiw==          1\nzzzkp+wC5LHXLSmDg2F9Fg==          1\n\n[525342 rows x 1 columns]",
      "text/html": "<div>\n<style scoped>\n    .dataframe tbody tr th:only-of-type {\n        vertical-align: middle;\n    }\n\n    .dataframe tbody tr th {\n        vertical-align: top;\n    }\n\n    .dataframe thead th {\n        text-align: right;\n    }\n</style>\n<table border=\"1\" class=\"dataframe\">\n  <thead>\n    <tr style=\"text-align: right;\">\n      <th></th>\n      <th>InvoiceId</th>\n    </tr>\n    <tr>\n      <th>CustomerId</th>\n      <th></th>\n    </tr>\n  </thead>\n  <tbody>\n    <tr>\n      <th>+++SJgx/2IJ+dXq7vF8COg==</th>\n      <td>1</td>\n    </tr>\n    <tr>\n      <th>+++aKiAiXhTfaqCLC/kyWA==</th>\n      <td>1</td>\n    </tr>\n    <tr>\n      <th>++/G67YHZTMKdpvANeYPLw==</th>\n      <td>1</td>\n    </tr>\n    <tr>\n      <th>++/GTDXvJzF11ZIUz81SPg==</th>\n      <td>1</td>\n    </tr>\n    <tr>\n      <th>++0Dxza60/nPDbfORBYuuA==</th>\n      <td>1</td>\n    </tr>\n    <tr>\n      <th>...</th>\n      <td>...</td>\n    </tr>\n    <tr>\n      <th>zzyyHmcBdlPu2LT05kFnrQ==</th>\n      <td>1</td>\n    </tr>\n    <tr>\n      <th>zzz2aWARN6OJELfdgOZpWw==</th>\n      <td>1</td>\n    </tr>\n    <tr>\n      <th>zzzCCNCA1718e2kRryHpJQ==</th>\n      <td>1</td>\n    </tr>\n    <tr>\n      <th>zzzj3hW4oytUbaZbp6hqiw==</th>\n      <td>1</td>\n    </tr>\n    <tr>\n      <th>zzzkp+wC5LHXLSmDg2F9Fg==</th>\n      <td>1</td>\n    </tr>\n  </tbody>\n</table>\n<p>525342 rows × 1 columns</p>\n</div>"
     },
     "execution_count": 8,
     "metadata": {},
     "output_type": "execute_result"
    }
   ],
   "source": [
    "# Calculate frequency of invoices per customer\n",
    "freq = df.groupby([\"CustomerId\"])[[\"InvoiceId\"]].count()\n",
    "\n",
    "freq"
   ],
   "metadata": {
    "collapsed": false,
    "ExecuteTime": {
     "end_time": "2024-06-03T22:21:08.698631400Z",
     "start_time": "2024-06-03T22:21:01.889663400Z"
    }
   },
   "id": "6451a9041ee0d80"
  },
  {
   "cell_type": "markdown",
   "source": [
    "#### Monetary"
   ],
   "metadata": {
    "collapsed": false
   },
   "id": "796455cd66a8246d"
  },
  {
   "cell_type": "code",
   "execution_count": 9,
   "outputs": [
    {
     "data": {
      "text/plain": "                           total\nCustomerId                      \n+++SJgx/2IJ+dXq7vF8COg==  107.85\n+++aKiAiXhTfaqCLC/kyWA==   11.98\n++/G67YHZTMKdpvANeYPLw==   33.54\n++/GTDXvJzF11ZIUz81SPg==   41.94\n++0Dxza60/nPDbfORBYuuA==   53.88\n...                          ...\nzzyyHmcBdlPu2LT05kFnrQ==   60.00\nzzz2aWARN6OJELfdgOZpWw==  143.76\nzzzCCNCA1718e2kRryHpJQ==   23.94\nzzzj3hW4oytUbaZbp6hqiw==   14.98\nzzzkp+wC5LHXLSmDg2F9Fg==    7.33\n\n[525342 rows x 1 columns]",
      "text/html": "<div>\n<style scoped>\n    .dataframe tbody tr th:only-of-type {\n        vertical-align: middle;\n    }\n\n    .dataframe tbody tr th {\n        vertical-align: top;\n    }\n\n    .dataframe thead th {\n        text-align: right;\n    }\n</style>\n<table border=\"1\" class=\"dataframe\">\n  <thead>\n    <tr style=\"text-align: right;\">\n      <th></th>\n      <th>total</th>\n    </tr>\n    <tr>\n      <th>CustomerId</th>\n      <th></th>\n    </tr>\n  </thead>\n  <tbody>\n    <tr>\n      <th>+++SJgx/2IJ+dXq7vF8COg==</th>\n      <td>107.85</td>\n    </tr>\n    <tr>\n      <th>+++aKiAiXhTfaqCLC/kyWA==</th>\n      <td>11.98</td>\n    </tr>\n    <tr>\n      <th>++/G67YHZTMKdpvANeYPLw==</th>\n      <td>33.54</td>\n    </tr>\n    <tr>\n      <th>++/GTDXvJzF11ZIUz81SPg==</th>\n      <td>41.94</td>\n    </tr>\n    <tr>\n      <th>++0Dxza60/nPDbfORBYuuA==</th>\n      <td>53.88</td>\n    </tr>\n    <tr>\n      <th>...</th>\n      <td>...</td>\n    </tr>\n    <tr>\n      <th>zzyyHmcBdlPu2LT05kFnrQ==</th>\n      <td>60.00</td>\n    </tr>\n    <tr>\n      <th>zzz2aWARN6OJELfdgOZpWw==</th>\n      <td>143.76</td>\n    </tr>\n    <tr>\n      <th>zzzCCNCA1718e2kRryHpJQ==</th>\n      <td>23.94</td>\n    </tr>\n    <tr>\n      <th>zzzj3hW4oytUbaZbp6hqiw==</th>\n      <td>14.98</td>\n    </tr>\n    <tr>\n      <th>zzzkp+wC5LHXLSmDg2F9Fg==</th>\n      <td>7.33</td>\n    </tr>\n  </tbody>\n</table>\n<p>525342 rows × 1 columns</p>\n</div>"
     },
     "execution_count": 9,
     "metadata": {},
     "output_type": "execute_result"
    }
   ],
   "source": [
    "# The value of each order can be calculated by looking at the production of \"productPrice\" and \"productQuantity\"\n",
    "df[\"total\"]=df[\"productPrice\"]*df[\"productQuantity\"]\n",
    "\n",
    "# Find the total money payed by each customer\n",
    "money=df.groupby([\"CustomerId\"])[[\"total\"]].sum()\n",
    "\n",
    "money"
   ],
   "metadata": {
    "collapsed": false,
    "ExecuteTime": {
     "end_time": "2024-06-03T22:21:14.884407800Z",
     "start_time": "2024-06-03T22:21:08.685041300Z"
    }
   },
   "id": "5d7b4b5d7ca057ce"
  },
  {
   "cell_type": "code",
   "execution_count": 10,
   "outputs": [],
   "source": [
    "# Change the name of each column of each dataset\n",
    "recency.columns=[\"Recency\"]\n",
    "freq.columns=[\"Frequency\"]\n",
    "money.columns=[\"Monetary\"]"
   ],
   "metadata": {
    "collapsed": false,
    "ExecuteTime": {
     "end_time": "2024-06-03T22:21:14.966800400Z",
     "start_time": "2024-06-03T22:21:14.890084700Z"
    }
   },
   "id": "6fead387b8a48d90"
  },
  {
   "cell_type": "code",
   "execution_count": 11,
   "outputs": [
    {
     "data": {
      "text/plain": "                          Recency  Frequency  Monetary\nCustomerId                                            \n+++SJgx/2IJ+dXq7vF8COg==      124          1    107.85\n+++aKiAiXhTfaqCLC/kyWA==      381          1     11.98\n++/G67YHZTMKdpvANeYPLw==      442          1     33.54\n++/GTDXvJzF11ZIUz81SPg==      217          1     41.94\n++0Dxza60/nPDbfORBYuuA==       34          1     53.88\n...                           ...        ...       ...\nzzyyHmcBdlPu2LT05kFnrQ==      247          1     60.00\nzzz2aWARN6OJELfdgOZpWw==       50          1    143.76\nzzzCCNCA1718e2kRryHpJQ==      380          1     23.94\nzzzj3hW4oytUbaZbp6hqiw==      392          1     14.98\nzzzkp+wC5LHXLSmDg2F9Fg==      248          1      7.33\n\n[525342 rows x 3 columns]",
      "text/html": "<div>\n<style scoped>\n    .dataframe tbody tr th:only-of-type {\n        vertical-align: middle;\n    }\n\n    .dataframe tbody tr th {\n        vertical-align: top;\n    }\n\n    .dataframe thead th {\n        text-align: right;\n    }\n</style>\n<table border=\"1\" class=\"dataframe\">\n  <thead>\n    <tr style=\"text-align: right;\">\n      <th></th>\n      <th>Recency</th>\n      <th>Frequency</th>\n      <th>Monetary</th>\n    </tr>\n    <tr>\n      <th>CustomerId</th>\n      <th></th>\n      <th></th>\n      <th></th>\n    </tr>\n  </thead>\n  <tbody>\n    <tr>\n      <th>+++SJgx/2IJ+dXq7vF8COg==</th>\n      <td>124</td>\n      <td>1</td>\n      <td>107.85</td>\n    </tr>\n    <tr>\n      <th>+++aKiAiXhTfaqCLC/kyWA==</th>\n      <td>381</td>\n      <td>1</td>\n      <td>11.98</td>\n    </tr>\n    <tr>\n      <th>++/G67YHZTMKdpvANeYPLw==</th>\n      <td>442</td>\n      <td>1</td>\n      <td>33.54</td>\n    </tr>\n    <tr>\n      <th>++/GTDXvJzF11ZIUz81SPg==</th>\n      <td>217</td>\n      <td>1</td>\n      <td>41.94</td>\n    </tr>\n    <tr>\n      <th>++0Dxza60/nPDbfORBYuuA==</th>\n      <td>34</td>\n      <td>1</td>\n      <td>53.88</td>\n    </tr>\n    <tr>\n      <th>...</th>\n      <td>...</td>\n      <td>...</td>\n      <td>...</td>\n    </tr>\n    <tr>\n      <th>zzyyHmcBdlPu2LT05kFnrQ==</th>\n      <td>247</td>\n      <td>1</td>\n      <td>60.00</td>\n    </tr>\n    <tr>\n      <th>zzz2aWARN6OJELfdgOZpWw==</th>\n      <td>50</td>\n      <td>1</td>\n      <td>143.76</td>\n    </tr>\n    <tr>\n      <th>zzzCCNCA1718e2kRryHpJQ==</th>\n      <td>380</td>\n      <td>1</td>\n      <td>23.94</td>\n    </tr>\n    <tr>\n      <th>zzzj3hW4oytUbaZbp6hqiw==</th>\n      <td>392</td>\n      <td>1</td>\n      <td>14.98</td>\n    </tr>\n    <tr>\n      <th>zzzkp+wC5LHXLSmDg2F9Fg==</th>\n      <td>248</td>\n      <td>1</td>\n      <td>7.33</td>\n    </tr>\n  </tbody>\n</table>\n<p>525342 rows × 3 columns</p>\n</div>"
     },
     "execution_count": 11,
     "metadata": {},
     "output_type": "execute_result"
    }
   ],
   "source": [
    "# Put all three dataset into one merged dataset \n",
    "RFM=pd.concat([recency,freq,money], axis=1)\n",
    "RFM"
   ],
   "metadata": {
    "collapsed": false,
    "ExecuteTime": {
     "end_time": "2024-06-03T22:21:16.168402700Z",
     "start_time": "2024-06-03T22:21:14.907504600Z"
    }
   },
   "id": "43431c64cd2eb80"
  },
  {
   "cell_type": "markdown",
   "source": [
    "### Find optimal number of clusters using Elbow method"
   ],
   "metadata": {
    "collapsed": false
   },
   "id": "a63d363ff3b18a47"
  },
  {
   "cell_type": "code",
   "execution_count": 12,
   "outputs": [
    {
     "name": "stderr",
     "output_type": "stream",
     "text": [
      "C:\\Users\\Admin\\AppData\\Local\\Programs\\Python\\Python312\\Lib\\site-packages\\sklearn\\cluster\\_kmeans.py:1416: FutureWarning: The default value of `n_init` will change from 10 to 'auto' in 1.4. Set the value of `n_init` explicitly to suppress the warning\n",
      "  super()._check_params_vs_input(X, default_n_init=10)\n",
      "C:\\Users\\Admin\\AppData\\Local\\Programs\\Python\\Python312\\Lib\\site-packages\\sklearn\\cluster\\_kmeans.py:1416: FutureWarning: The default value of `n_init` will change from 10 to 'auto' in 1.4. Set the value of `n_init` explicitly to suppress the warning\n",
      "  super()._check_params_vs_input(X, default_n_init=10)\n",
      "C:\\Users\\Admin\\AppData\\Local\\Programs\\Python\\Python312\\Lib\\site-packages\\sklearn\\cluster\\_kmeans.py:1416: FutureWarning: The default value of `n_init` will change from 10 to 'auto' in 1.4. Set the value of `n_init` explicitly to suppress the warning\n",
      "  super()._check_params_vs_input(X, default_n_init=10)\n",
      "C:\\Users\\Admin\\AppData\\Local\\Programs\\Python\\Python312\\Lib\\site-packages\\sklearn\\cluster\\_kmeans.py:1416: FutureWarning: The default value of `n_init` will change from 10 to 'auto' in 1.4. Set the value of `n_init` explicitly to suppress the warning\n",
      "  super()._check_params_vs_input(X, default_n_init=10)\n",
      "C:\\Users\\Admin\\AppData\\Local\\Programs\\Python\\Python312\\Lib\\site-packages\\sklearn\\cluster\\_kmeans.py:1416: FutureWarning: The default value of `n_init` will change from 10 to 'auto' in 1.4. Set the value of `n_init` explicitly to suppress the warning\n",
      "  super()._check_params_vs_input(X, default_n_init=10)\n",
      "C:\\Users\\Admin\\AppData\\Local\\Programs\\Python\\Python312\\Lib\\site-packages\\sklearn\\cluster\\_kmeans.py:1416: FutureWarning: The default value of `n_init` will change from 10 to 'auto' in 1.4. Set the value of `n_init` explicitly to suppress the warning\n",
      "  super()._check_params_vs_input(X, default_n_init=10)\n",
      "C:\\Users\\Admin\\AppData\\Local\\Programs\\Python\\Python312\\Lib\\site-packages\\sklearn\\cluster\\_kmeans.py:1416: FutureWarning: The default value of `n_init` will change from 10 to 'auto' in 1.4. Set the value of `n_init` explicitly to suppress the warning\n",
      "  super()._check_params_vs_input(X, default_n_init=10)\n",
      "C:\\Users\\Admin\\AppData\\Local\\Programs\\Python\\Python312\\Lib\\site-packages\\sklearn\\cluster\\_kmeans.py:1416: FutureWarning: The default value of `n_init` will change from 10 to 'auto' in 1.4. Set the value of `n_init` explicitly to suppress the warning\n",
      "  super()._check_params_vs_input(X, default_n_init=10)\n",
      "C:\\Users\\Admin\\AppData\\Local\\Programs\\Python\\Python312\\Lib\\site-packages\\sklearn\\cluster\\_kmeans.py:1416: FutureWarning: The default value of `n_init` will change from 10 to 'auto' in 1.4. Set the value of `n_init` explicitly to suppress the warning\n",
      "  super()._check_params_vs_input(X, default_n_init=10)\n",
      "C:\\Users\\Admin\\AppData\\Local\\Programs\\Python\\Python312\\Lib\\site-packages\\sklearn\\cluster\\_kmeans.py:1416: FutureWarning: The default value of `n_init` will change from 10 to 'auto' in 1.4. Set the value of `n_init` explicitly to suppress the warning\n",
      "  super()._check_params_vs_input(X, default_n_init=10)\n"
     ]
    },
    {
     "data": {
      "text/plain": "<Figure size 800x600 with 1 Axes>",
      "image/png": "[encoded data removed]"
     },
     "metadata": {},
     "output_type": "display_data"
    }
   ],
   "source": [
    "# Select features for clustering\n",
    "features = RFM[['Frequency', 'Recency', 'Monetary']]\n",
    "\n",
    "# Scale the dataset\n",
    "scaler = StandardScaler()\n",
    "scaled = scaler.fit_transform(features)\n",
    "\n",
    "# Elbow method to find the optimal number of clusters\n",
    "inertia = []\n",
    "range_n_clusters = range(1, 11)\n",
    "\n",
    "for n_clusters in range_n_clusters:\n",
    "    kmeans = KMeans(n_clusters=n_clusters, random_state=0).fit(scaled)\n",
    "    inertia.append(kmeans.inertia_)\n",
    "\n",
    "# Plot the elbow curve\n",
    "plt.figure(figsize=(8, 6), facecolor='white')  # Set the background color to white\n",
    "plt.plot(range_n_clusters, inertia, marker='x', linestyle='-', color='black', markerfacecolor='white', markeredgewidth=2, markeredgecolor='black')\n",
    "plt.xlabel('Number of clusters', color='black')  # Set the color of x-axis label to black\n",
    "plt.ylabel('Inertia', color='black')  # Set the color of y-axis label to black\n",
    "plt.title('Elbow Method For Optimal Number of Clusters', color='black')  # Set the color of title to black\n",
    "plt.grid(True)  # Add gridlines\n",
    "plt.show()\n"
   ],
   "metadata": {
    "collapsed": false,
    "ExecuteTime": {
     "end_time": "2024-06-03T22:22:05.616228400Z",
     "start_time": "2024-06-03T22:21:16.201541800Z"
    }
   },
   "id": "5668ab2edcd3ea25"
  },
  {
   "cell_type": "markdown",
   "source": [
    "### Clustering customers using Kmeans"
   ],
   "metadata": {
    "collapsed": false
   },
   "id": "e5ab09144ca2d2d8"
  },
  {
   "cell_type": "code",
   "execution_count": 13,
   "outputs": [
    {
     "name": "stderr",
     "output_type": "stream",
     "text": [
      "C:\\Users\\Admin\\AppData\\Local\\Programs\\Python\\Python312\\Lib\\site-packages\\sklearn\\cluster\\_kmeans.py:1416: FutureWarning: The default value of `n_init` will change from 10 to 'auto' in 1.4. Set the value of `n_init` explicitly to suppress the warning\n",
      "  super()._check_params_vs_input(X, default_n_init=10)\n"
     ]
    },
    {
     "data": {
      "text/plain": "                          Recency  Frequency  Monetary  Clusters\nCustomerId                                                      \n+++SJgx/2IJ+dXq7vF8COg==      124          1    107.85         0\n+++aKiAiXhTfaqCLC/kyWA==      381          1     11.98         1\n++/G67YHZTMKdpvANeYPLw==      442          1     33.54         1\n++/GTDXvJzF11ZIUz81SPg==      217          1     41.94         0\n++0Dxza60/nPDbfORBYuuA==       34          1     53.88         0\n...                           ...        ...       ...       ...\nzzyyHmcBdlPu2LT05kFnrQ==      247          1     60.00         1\nzzz2aWARN6OJELfdgOZpWw==       50          1    143.76         0\nzzzCCNCA1718e2kRryHpJQ==      380          1     23.94         1\nzzzj3hW4oytUbaZbp6hqiw==      392          1     14.98         1\nzzzkp+wC5LHXLSmDg2F9Fg==      248          1      7.33         1\n\n[525342 rows x 4 columns]",
      "text/html": "<div>\n<style scoped>\n    .dataframe tbody tr th:only-of-type {\n        vertical-align: middle;\n    }\n\n    .dataframe tbody tr th {\n        vertical-align: top;\n    }\n\n    .dataframe thead th {\n        text-align: right;\n    }\n</style>\n<table border=\"1\" class=\"dataframe\">\n  <thead>\n    <tr style=\"text-align: right;\">\n      <th></th>\n      <th>Recency</th>\n      <th>Frequency</th>\n      <th>Monetary</th>\n      <th>Clusters</th>\n    </tr>\n    <tr>\n      <th>CustomerId</th>\n      <th></th>\n      <th></th>\n      <th></th>\n      <th></th>\n    </tr>\n  </thead>\n  <tbody>\n    <tr>\n      <th>+++SJgx/2IJ+dXq7vF8COg==</th>\n      <td>124</td>\n      <td>1</td>\n      <td>107.85</td>\n      <td>0</td>\n    </tr>\n    <tr>\n      <th>+++aKiAiXhTfaqCLC/kyWA==</th>\n      <td>381</td>\n      <td>1</td>\n      <td>11.98</td>\n      <td>1</td>\n    </tr>\n    <tr>\n      <th>++/G67YHZTMKdpvANeYPLw==</th>\n      <td>442</td>\n      <td>1</td>\n      <td>33.54</td>\n      <td>1</td>\n    </tr>\n    <tr>\n      <th>++/GTDXvJzF11ZIUz81SPg==</th>\n      <td>217</td>\n      <td>1</td>\n      <td>41.94</td>\n      <td>0</td>\n    </tr>\n    <tr>\n      <th>++0Dxza60/nPDbfORBYuuA==</th>\n      <td>34</td>\n      <td>1</td>\n      <td>53.88</td>\n      <td>0</td>\n    </tr>\n    <tr>\n      <th>...</th>\n      <td>...</td>\n      <td>...</td>\n      <td>...</td>\n      <td>...</td>\n    </tr>\n    <tr>\n      <th>zzyyHmcBdlPu2LT05kFnrQ==</th>\n      <td>247</td>\n      <td>1</td>\n      <td>60.00</td>\n      <td>1</td>\n    </tr>\n    <tr>\n      <th>zzz2aWARN6OJELfdgOZpWw==</th>\n      <td>50</td>\n      <td>1</td>\n      <td>143.76</td>\n      <td>0</td>\n    </tr>\n    <tr>\n      <th>zzzCCNCA1718e2kRryHpJQ==</th>\n      <td>380</td>\n      <td>1</td>\n      <td>23.94</td>\n      <td>1</td>\n    </tr>\n    <tr>\n      <th>zzzj3hW4oytUbaZbp6hqiw==</th>\n      <td>392</td>\n      <td>1</td>\n      <td>14.98</td>\n      <td>1</td>\n    </tr>\n    <tr>\n      <th>zzzkp+wC5LHXLSmDg2F9Fg==</th>\n      <td>248</td>\n      <td>1</td>\n      <td>7.33</td>\n      <td>1</td>\n    </tr>\n  </tbody>\n</table>\n<p>525342 rows × 4 columns</p>\n</div>"
     },
     "execution_count": 13,
     "metadata": {},
     "output_type": "execute_result"
    }
   ],
   "source": [
    "# Accoring to the Elbow method, the optimal number of clusters is 4\n",
    "kmeans=KMeans(n_clusters=4)\n",
    "kmeans.fit(scaled)\n",
    "# Add the column \"Clusters\" with assigned cluster for each customer\n",
    "RFM[\"Clusters\"]=(kmeans.labels_)\n",
    "RFM"
   ],
   "metadata": {
    "collapsed": false,
    "ExecuteTime": {
     "end_time": "2024-06-03T22:22:08.467037Z",
     "start_time": "2024-06-03T22:22:05.619992400Z"
    }
   },
   "id": "197b5fe444270fe5"
  },
  {
   "cell_type": "code",
   "execution_count": 14,
   "outputs": [
    {
     "data": {
      "text/plain": "             Recency    Frequency      Monetary\nClusters                                       \n0         106.515722     1.804270  8.841492e+02\n1         354.668899     1.164542  1.703159e+02\n2         123.000000  1676.000000  4.044394e+07\n3          53.925926   518.333333  2.593540e+06",
      "text/html": "<div>\n<style scoped>\n    .dataframe tbody tr th:only-of-type {\n        vertical-align: middle;\n    }\n\n    .dataframe tbody tr th {\n        vertical-align: top;\n    }\n\n    .dataframe thead th {\n        text-align: right;\n    }\n</style>\n<table border=\"1\" class=\"dataframe\">\n  <thead>\n    <tr style=\"text-align: right;\">\n      <th></th>\n      <th>Recency</th>\n      <th>Frequency</th>\n      <th>Monetary</th>\n    </tr>\n    <tr>\n      <th>Clusters</th>\n      <th></th>\n      <th></th>\n      <th></th>\n    </tr>\n  </thead>\n  <tbody>\n    <tr>\n      <th>0</th>\n      <td>106.515722</td>\n      <td>1.804270</td>\n      <td>8.841492e+02</td>\n    </tr>\n    <tr>\n      <th>1</th>\n      <td>354.668899</td>\n      <td>1.164542</td>\n      <td>1.703159e+02</td>\n    </tr>\n    <tr>\n      <th>2</th>\n      <td>123.000000</td>\n      <td>1676.000000</td>\n      <td>4.044394e+07</td>\n    </tr>\n    <tr>\n      <th>3</th>\n      <td>53.925926</td>\n      <td>518.333333</td>\n      <td>2.593540e+06</td>\n    </tr>\n  </tbody>\n</table>\n</div>"
     },
     "execution_count": 14,
     "metadata": {},
     "output_type": "execute_result"
    }
   ],
   "source": [
    "# Calculate the mean of Recency, Frequency, Monetary of each cluster\n",
    "group=RFM.groupby([\"Clusters\"])[[\"Recency\", \"Frequency\", \"Monetary\"]].mean()\n",
    "group"
   ],
   "metadata": {
    "collapsed": false,
    "ExecuteTime": {
     "end_time": "2024-06-03T22:22:08.863852400Z",
     "start_time": "2024-06-03T22:22:08.475030800Z"
    }
   },
   "id": "679717bee219a755"
  },
  {
   "cell_type": "code",
   "execution_count": 29,
   "outputs": [],
   "source": [
    "# Categorize the clusters \n",
    "def func(row):\n",
    "    if row[\"Clusters\"]==0:\n",
    "        return \"Quite new - Little freq - Little pay\"\n",
    "    elif row[\"Clusters\"]==2:\n",
    "        return \"Little old - High freq - High pay\"\n",
    "    elif row[\"Clusters\"]==3:\n",
    "        return \"New - Quite freq - Quite high pay \"\n",
    "    else:\n",
    "        return \"Old - Least frequent - Pay least \""
   ],
   "metadata": {
    "collapsed": false,
    "ExecuteTime": {
     "end_time": "2024-06-03T22:25:28.049626900Z",
     "start_time": "2024-06-03T22:25:27.674004900Z"
    }
   },
   "id": "f9cedc7467151db2"
  },
  {
   "cell_type": "code",
   "execution_count": 30,
   "outputs": [
    {
     "data": {
      "text/plain": "                          Recency  Frequency  Monetary  Clusters  \\\nCustomerId                                                         \n+++SJgx/2IJ+dXq7vF8COg==      124          1    107.85         0   \n+++aKiAiXhTfaqCLC/kyWA==      381          1     11.98         1   \n++/G67YHZTMKdpvANeYPLw==      442          1     33.54         1   \n++/GTDXvJzF11ZIUz81SPg==      217          1     41.94         0   \n++0Dxza60/nPDbfORBYuuA==       34          1     53.88         0   \n...                           ...        ...       ...       ...   \nzzyyHmcBdlPu2LT05kFnrQ==      247          1     60.00         1   \nzzz2aWARN6OJELfdgOZpWw==       50          1    143.76         0   \nzzzCCNCA1718e2kRryHpJQ==      380          1     23.94         1   \nzzzj3hW4oytUbaZbp6hqiw==      392          1     14.98         1   \nzzzkp+wC5LHXLSmDg2F9Fg==      248          1      7.33         1   \n\n                                                      Category  \nCustomerId                                                      \n+++SJgx/2IJ+dXq7vF8COg==  Quite new - Little freq - Little pay  \n+++aKiAiXhTfaqCLC/kyWA==     Old - Least frequent - Pay least   \n++/G67YHZTMKdpvANeYPLw==     Old - Least frequent - Pay least   \n++/GTDXvJzF11ZIUz81SPg==  Quite new - Little freq - Little pay  \n++0Dxza60/nPDbfORBYuuA==  Quite new - Little freq - Little pay  \n...                                                        ...  \nzzyyHmcBdlPu2LT05kFnrQ==     Old - Least frequent - Pay least   \nzzz2aWARN6OJELfdgOZpWw==  Quite new - Little freq - Little pay  \nzzzCCNCA1718e2kRryHpJQ==     Old - Least frequent - Pay least   \nzzzj3hW4oytUbaZbp6hqiw==     Old - Least frequent - Pay least   \nzzzkp+wC5LHXLSmDg2F9Fg==     Old - Least frequent - Pay least   \n\n[525342 rows x 5 columns]",
      "text/html": "<div>\n<style scoped>\n    .dataframe tbody tr th:only-of-type {\n        vertical-align: middle;\n    }\n\n    .dataframe tbody tr th {\n        vertical-align: top;\n    }\n\n    .dataframe thead th {\n        text-align: right;\n    }\n</style>\n<table border=\"1\" class=\"dataframe\">\n  <thead>\n    <tr style=\"text-align: right;\">\n      <th></th>\n      <th>Recency</th>\n      <th>Frequency</th>\n      <th>Monetary</th>\n      <th>Clusters</th>\n      <th>Category</th>\n    </tr>\n    <tr>\n      <th>CustomerId</th>\n      <th></th>\n      <th></th>\n      <th></th>\n      <th></th>\n      <th></th>\n    </tr>\n  </thead>\n  <tbody>\n    <tr>\n      <th>+++SJgx/2IJ+dXq7vF8COg==</th>\n      <td>124</td>\n      <td>1</td>\n      <td>107.85</td>\n      <td>0</td>\n      <td>Quite new - Little freq - Little pay</td>\n    </tr>\n    <tr>\n      <th>+++aKiAiXhTfaqCLC/kyWA==</th>\n      <td>381</td>\n      <td>1</td>\n      <td>11.98</td>\n      <td>1</td>\n      <td>Old - Least frequent - Pay least</td>\n    </tr>\n    <tr>\n      <th>++/G67YHZTMKdpvANeYPLw==</th>\n      <td>442</td>\n      <td>1</td>\n      <td>33.54</td>\n      <td>1</td>\n      <td>Old - Least frequent - Pay least</td>\n    </tr>\n    <tr>\n      <th>++/GTDXvJzF11ZIUz81SPg==</th>\n      <td>217</td>\n      <td>1</td>\n      <td>41.94</td>\n      <td>0</td>\n      <td>Quite new - Little freq - Little pay</td>\n    </tr>\n    <tr>\n      <th>++0Dxza60/nPDbfORBYuuA==</th>\n      <td>34</td>\n      <td>1</td>\n      <td>53.88</td>\n      <td>0</td>\n      <td>Quite new - Little freq - Little pay</td>\n    </tr>\n    <tr>\n      <th>...</th>\n      <td>...</td>\n      <td>...</td>\n      <td>...</td>\n      <td>...</td>\n      <td>...</td>\n    </tr>\n    <tr>\n      <th>zzyyHmcBdlPu2LT05kFnrQ==</th>\n      <td>247</td>\n      <td>1</td>\n      <td>60.00</td>\n      <td>1</td>\n      <td>Old - Least frequent - Pay least</td>\n    </tr>\n    <tr>\n      <th>zzz2aWARN6OJELfdgOZpWw==</th>\n      <td>50</td>\n      <td>1</td>\n      <td>143.76</td>\n      <td>0</td>\n      <td>Quite new - Little freq - Little pay</td>\n    </tr>\n    <tr>\n      <th>zzzCCNCA1718e2kRryHpJQ==</th>\n      <td>380</td>\n      <td>1</td>\n      <td>23.94</td>\n      <td>1</td>\n      <td>Old - Least frequent - Pay least</td>\n    </tr>\n    <tr>\n      <th>zzzj3hW4oytUbaZbp6hqiw==</th>\n      <td>392</td>\n      <td>1</td>\n      <td>14.98</td>\n      <td>1</td>\n      <td>Old - Least frequent - Pay least</td>\n    </tr>\n    <tr>\n      <th>zzzkp+wC5LHXLSmDg2F9Fg==</th>\n      <td>248</td>\n      <td>1</td>\n      <td>7.33</td>\n      <td>1</td>\n      <td>Old - Least frequent - Pay least</td>\n    </tr>\n  </tbody>\n</table>\n<p>525342 rows × 5 columns</p>\n</div>"
     },
     "execution_count": 30,
     "metadata": {},
     "output_type": "execute_result"
    }
   ],
   "source": [
    "RFM[\"Category\"]=RFM.apply(func, axis=1)\n",
    "RFM"
   ],
   "metadata": {
    "collapsed": false,
    "ExecuteTime": {
     "end_time": "2024-06-03T22:25:40.133903300Z",
     "start_time": "2024-06-03T22:25:30.135237200Z"
    }
   },
   "id": "9fdcc741cfbab817"
  },
  {
   "cell_type": "code",
   "execution_count": 31,
   "outputs": [
    {
     "data": {
      "text/plain": "Category\nQuite new - Little freq - Little pay    297864\nOld - Least frequent - Pay least        227450\nNew - Quite freq - Quite high pay           27\nLittle old - High freq - High pay            1\nName: count, dtype: int64"
     },
     "execution_count": 31,
     "metadata": {},
     "output_type": "execute_result"
    }
   ],
   "source": [
    "# Count the number of customers of each category\n",
    "result=RFM[\"Category\"].value_counts()\n",
    "result"
   ],
   "metadata": {
    "collapsed": false,
    "ExecuteTime": {
     "end_time": "2024-06-03T22:25:45.278684100Z",
     "start_time": "2024-06-03T22:25:45.019887100Z"
    }
   },
   "id": "3648c3b43c27cfca"
  },
  {
   "cell_type": "code",
   "execution_count": 32,
   "outputs": [
    {
     "data": {
      "application/vnd.plotly.v1+json": {
       "data": [
        {
         "alignmentgroup": "True",
         "hovertemplate": "count=%{x}<br>Category=%{y}<extra></extra>",
         "legendgroup": "",
         "marker": {
          "color": "#636efa",
          "pattern": {
           "shape": ""
          }
         },
         "name": "",
         "offsetgroup": "",
         "orientation": "h",
         "showlegend": false,
         "textposition": "auto",
         "x": [
          297864,
          227450,
          27,
          1
         ],
         "xaxis": "x",
         "y": [
          "Quite new - Little freq - Little pay",
          "Old - Least frequent - Pay least ",
          "New - Quite freq - Quite high pay ",
          "Little old - High freq - High pay"
         ],
         "yaxis": "y",
         "type": "bar"
        }
       ],
       "layout": {
        "template": {
         "data": {
          "barpolar": [
           {
            "marker": {
             "line": {
              "color": "white",
              "width": 0.5
             },
             "pattern": {
              "fillmode": "overlay",
              "size": 10,
              "solidity": 0.2
             }
            },
            "type": "barpolar"
           }
          ],
          "bar": [
           {
            "error_x": {
             "color": "#2a3f5f"
            },
            "error_y": {
             "color": "#2a3f5f"
            },
            "marker": {
             "line": {
              "color": "white",
              "width": 0.5
             },
             "pattern": {
              "fillmode": "overlay",
              "size": 10,
              "solidity": 0.2
             }
            },
            "type": "bar"
           }
          ],
          "carpet": [
           {
            "aaxis": {
             "endlinecolor": "#2a3f5f",
             "gridcolor": "#C8D4E3",
             "linecolor": "#C8D4E3",
             "minorgridcolor": "#C8D4E3",
             "startlinecolor": "#2a3f5f"
            },
            "baxis": {
             "endlinecolor": "#2a3f5f",
             "gridcolor": "#C8D4E3",
             "linecolor": "#C8D4E3",
             "minorgridcolor": "#C8D4E3",
             "startlinecolor": "#2a3f5f"
            },
            "type": "carpet"
           }
          ],
          "choropleth": [
           {
            "colorbar": {
             "outlinewidth": 0,
             "ticks": ""
            },
            "type": "choropleth"
           }
          ],
          "contourcarpet": [
           {
            "colorbar": {
             "outlinewidth": 0,
             "ticks": ""
            },
            "type": "contourcarpet"
           }
          ],
          "contour": [
           {
            "colorbar": {
             "outlinewidth": 0,
             "ticks": ""
            },
            "colorscale": [
             [
              0.0,
              "#0d0887"
             ],
             [
              0.1111111111111111,
              "#46039f"
             ],
             [
              0.2222222222222222,
              "#7201a8"
             ],
             [
              0.3333333333333333,
              "#9c179e"
             ],
             [
              0.4444444444444444,
              "#bd3786"
             ],
             [
              0.5555555555555556,
              "#d8576b"
             ],
             [
              0.6666666666666666,
              "#ed7953"
             ],
             [
              0.7777777777777778,
              "#fb9f3a"
             ],
             [
              0.8888888888888888,
              "#fdca26"
             ],
             [
              1.0,
              "#f0f921"
             ]
            ],
            "type": "contour"
           }
          ],
          "heatmapgl": [
           {
            "colorbar": {
             "outlinewidth": 0,
             "ticks": ""
            },
            "colorscale": [
             [
              0.0,
              "#0d0887"
             ],
             [
              0.1111111111111111,
              "#46039f"
             ],
             [
              0.2222222222222222,
              "#7201a8"
             ],
             [
              0.3333333333333333,
              "#9c179e"
             ],
             [
              0.4444444444444444,
              "#bd3786"
             ],
             [
              0.5555555555555556,
              "#d8576b"
             ],
             [
              0.6666666666666666,
              "#ed7953"
             ],
             [
              0.7777777777777778,
              "#fb9f3a"
             ],
             [
              0.8888888888888888,
              "#fdca26"
             ],
             [
              1.0,
              "#f0f921"
             ]
            ],
            "type": "heatmapgl"
           }
          ],
          "heatmap": [
           {
            "colorbar": {
             "outlinewidth": 0,
             "ticks": ""
            },
            "colorscale": [
             [
              0.0,
              "#0d0887"
             ],
             [
              0.1111111111111111,
              "#46039f"
             ],
             [
              0.2222222222222222,
              "#7201a8"
             ],
             [
              0.3333333333333333,
              "#9c179e"
             ],
             [
              0.4444444444444444,
              "#bd3786"
             ],
             [
              0.5555555555555556,
              "#d8576b"
             ],
             [
              0.6666666666666666,
              "#ed7953"
             ],
             [
              0.7777777777777778,
              "#fb9f3a"
             ],
             [
              0.8888888888888888,
              "#fdca26"
             ],
             [
              1.0,
              "#f0f921"
             ]
            ],
            "type": "heatmap"
           }
          ],
          "histogram2dcontour": [
           {
            "colorbar": {
             "outlinewidth": 0,
             "ticks": ""
            },
            "colorscale": [
             [
              0.0,
              "#0d0887"
             ],
             [
              0.1111111111111111,
              "#46039f"
             ],
             [
              0.2222222222222222,
              "#7201a8"
             ],
             [
              0.3333333333333333,
              "#9c179e"
             ],
             [
              0.4444444444444444,
              "#bd3786"
             ],
             [
              0.5555555555555556,
              "#d8576b"
             ],
             [
              0.6666666666666666,
              "#ed7953"
             ],
             [
              0.7777777777777778,
              "#fb9f3a"
             ],
             [
              0.8888888888888888,
              "#fdca26"
             ],
             [
              1.0,
              "#f0f921"
             ]
            ],
            "type": "histogram2dcontour"
           }
          ],
          "histogram2d": [
           {
            "colorbar": {
             "outlinewidth": 0,
             "ticks": ""
            },
            "colorscale": [
             [
              0.0,
              "#0d0887"
             ],
             [
              0.1111111111111111,
              "#46039f"
             ],
             [
              0.2222222222222222,
              "#7201a8"
             ],
             [
              0.3333333333333333,
              "#9c179e"
             ],
             [
              0.4444444444444444,
              "#bd3786"
             ],
             [
              0.5555555555555556,
              "#d8576b"
             ],
             [
              0.6666666666666666,
              "#ed7953"
             ],
             [
              0.7777777777777778,
              "#fb9f3a"
             ],
             [
              0.8888888888888888,
              "#fdca26"
             ],
             [
              1.0,
              "#f0f921"
             ]
            ],
            "type": "histogram2d"
           }
          ],
          "histogram": [
           {
            "marker": {
             "pattern": {
              "fillmode": "overlay",
              "size": 10,
              "solidity": 0.2
             }
            },
            "type": "histogram"
           }
          ],
          "mesh3d": [
           {
            "colorbar": {
             "outlinewidth": 0,
             "ticks": ""
            },
            "type": "mesh3d"
           }
          ],
          "parcoords": [
           {
            "line": {
             "colorbar": {
              "outlinewidth": 0,
              "ticks": ""
             }
            },
            "type": "parcoords"
           }
          ],
          "pie": [
           {
            "automargin": true,
            "type": "pie"
           }
          ],
          "scatter3d": [
           {
            "line": {
             "colorbar": {
              "outlinewidth": 0,
              "ticks": ""
             }
            },
            "marker": {
             "colorbar": {
              "outlinewidth": 0,
              "ticks": ""
             }
            },
            "type": "scatter3d"
           }
          ],
          "scattercarpet": [
           {
            "marker": {
             "colorbar": {
              "outlinewidth": 0,
              "ticks": ""
             }
            },
            "type": "scattercarpet"
           }
          ],
          "scattergeo": [
           {
            "marker": {
             "colorbar": {
              "outlinewidth": 0,
              "ticks": ""
             }
            },
            "type": "scattergeo"
           }
          ],
          "scattergl": [
           {
            "marker": {
             "colorbar": {
              "outlinewidth": 0,
              "ticks": ""
             }
            },
            "type": "scattergl"
           }
          ],
          "scattermapbox": [
           {
            "marker": {
             "colorbar": {
              "outlinewidth": 0,
              "ticks": ""
             }
            },
            "type": "scattermapbox"
           }
          ],
          "scatterpolargl": [
           {
            "marker": {
             "colorbar": {
              "outlinewidth": 0,
              "ticks": ""
             }
            },
            "type": "scatterpolargl"
           }
          ],
          "scatterpolar": [
           {
            "marker": {
             "colorbar": {
              "outlinewidth": 0,
              "ticks": ""
             }
            },
            "type": "scatterpolar"
           }
          ],
          "scatter": [
           {
            "fillpattern": {
             "fillmode": "overlay",
             "size": 10,
             "solidity": 0.2
            },
            "type": "scatter"
           }
          ],
          "scatterternary": [
           {
            "marker": {
             "colorbar": {
              "outlinewidth": 0,
              "ticks": ""
             }
            },
            "type": "scatterternary"
           }
          ],
          "surface": [
           {
            "colorbar": {
             "outlinewidth": 0,
             "ticks": ""
            },
            "colorscale": [
             [
              0.0,
              "#0d0887"
             ],
             [
              0.1111111111111111,
              "#46039f"
             ],
             [
              0.2222222222222222,
              "#7201a8"
             ],
             [
              0.3333333333333333,
              "#9c179e"
             ],
             [
              0.4444444444444444,
              "#bd3786"
             ],
             [
              0.5555555555555556,
              "#d8576b"
             ],
             [
              0.6666666666666666,
              "#ed7953"
             ],
             [
              0.7777777777777778,
              "#fb9f3a"
             ],
             [
              0.8888888888888888,
              "#fdca26"
             ],
             [
              1.0,
              "#f0f921"
             ]
            ],
            "type": "surface"
           }
          ],
          "table": [
           {
            "cells": {
             "fill": {
              "color": "#EBF0F8"
             },
             "line": {
              "color": "white"
             }
            },
            "header": {
             "fill": {
              "color": "#C8D4E3"
             },
             "line": {
              "color": "white"
             }
            },
            "type": "table"
           }
          ]
         },
         "layout": {
          "annotationdefaults": {
           "arrowcolor": "#2a3f5f",
           "arrowhead": 0,
           "arrowwidth": 1
          },
          "autotypenumbers": "strict",
          "coloraxis": {
           "colorbar": {
            "outlinewidth": 0,
            "ticks": ""
           }
          },
          "colorscale": {
           "diverging": [
            [
             0,
             "#8e0152"
            ],
            [
             0.1,
             "#c51b7d"
            ],
            [
             0.2,
             "#de77ae"
            ],
            [
             0.3,
             "#f1b6da"
            ],
            [
             0.4,
             "#fde0ef"
            ],
            [
             0.5,
             "#f7f7f7"
            ],
            [
             0.6,
             "#e6f5d0"
            ],
            [
             0.7,
             "#b8e186"
            ],
            [
             0.8,
             "#7fbc41"
            ],
            [
             0.9,
             "#4d9221"
            ],
            [
             1,
             "#276419"
            ]
           ],
           "sequential": [
            [
             0.0,
             "#0d0887"
            ],
            [
             0.1111111111111111,
             "#46039f"
            ],
            [
             0.2222222222222222,
             "#7201a8"
            ],
            [
             0.3333333333333333,
             "#9c179e"
            ],
            [
             0.4444444444444444,
             "#bd3786"
            ],
            [
             0.5555555555555556,
             "#d8576b"
            ],
            [
             0.6666666666666666,
             "#ed7953"
            ],
            [
             0.7777777777777778,
             "#fb9f3a"
            ],
            [
             0.8888888888888888,
             "#fdca26"
            ],
            [
             1.0,
             "#f0f921"
            ]
           ],
           "sequentialminus": [
            [
             0.0,
             "#0d0887"
            ],
            [
             0.1111111111111111,
             "#46039f"
            ],
            [
             0.2222222222222222,
             "#7201a8"
            ],
            [
             0.3333333333333333,
             "#9c179e"
            ],
            [
             0.4444444444444444,
             "#bd3786"
            ],
            [
             0.5555555555555556,
             "#d8576b"
            ],
            [
             0.6666666666666666,
             "#ed7953"
            ],
            [
             0.7777777777777778,
             "#fb9f3a"
            ],
            [
             0.8888888888888888,
             "#fdca26"
            ],
            [
             1.0,
             "#f0f921"
            ]
           ]
          },
          "colorway": [
           "#636efa",
           "#EF553B",
           "#00cc96",
           "#ab63fa",
           "#FFA15A",
           "#19d3f3",
           "#FF6692",
           "#B6E880",
           "#FF97FF",
           "#FECB52"
          ],
          "font": {
           "color": "#2a3f5f"
          },
          "geo": {
           "bgcolor": "white",
           "lakecolor": "white",
           "landcolor": "white",
           "showlakes": true,
           "showland": true,
           "subunitcolor": "#C8D4E3"
          },
          "hoverlabel": {
           "align": "left"
          },
          "hovermode": "closest",
          "mapbox": {
           "style": "light"
          },
          "paper_bgcolor": "white",
          "plot_bgcolor": "white",
          "polar": {
           "angularaxis": {
            "gridcolor": "#EBF0F8",
            "linecolor": "#EBF0F8",
            "ticks": ""
           },
           "bgcolor": "white",
           "radialaxis": {
            "gridcolor": "#EBF0F8",
            "linecolor": "#EBF0F8",
            "ticks": ""
           }
          },
          "scene": {
           "xaxis": {
            "backgroundcolor": "white",
            "gridcolor": "#DFE8F3",
            "gridwidth": 2,
            "linecolor": "#EBF0F8",
            "showbackground": true,
            "ticks": "",
            "zerolinecolor": "#EBF0F8"
           },
           "yaxis": {
            "backgroundcolor": "white",
            "gridcolor": "#DFE8F3",
            "gridwidth": 2,
            "linecolor": "#EBF0F8",
            "showbackground": true,
            "ticks": "",
            "zerolinecolor": "#EBF0F8"
           },
           "zaxis": {
            "backgroundcolor": "white",
            "gridcolor": "#DFE8F3",
            "gridwidth": 2,
            "linecolor": "#EBF0F8",
            "showbackground": true,
            "ticks": "",
            "zerolinecolor": "#EBF0F8"
           }
          },
          "shapedefaults": {
           "line": {
            "color": "#2a3f5f"
           }
          },
          "ternary": {
           "aaxis": {
            "gridcolor": "#DFE8F3",
            "linecolor": "#A2B1C6",
            "ticks": ""
           },
           "baxis": {
            "gridcolor": "#DFE8F3",
            "linecolor": "#A2B1C6",
            "ticks": ""
           },
           "bgcolor": "white",
           "caxis": {
            "gridcolor": "#DFE8F3",
            "linecolor": "#A2B1C6",
            "ticks": ""
           }
          },
          "title": {
           "x": 0.05
          },
          "xaxis": {
           "automargin": true,
           "gridcolor": "#EBF0F8",
           "linecolor": "#EBF0F8",
           "ticks": "",
           "title": {
            "standoff": 15
           },
           "zerolinecolor": "#EBF0F8",
           "zerolinewidth": 2
          },
          "yaxis": {
           "automargin": true,
           "gridcolor": "#EBF0F8",
           "linecolor": "#EBF0F8",
           "ticks": "",
           "title": {
            "standoff": 15
           },
           "zerolinecolor": "#EBF0F8",
           "zerolinewidth": 2
          }
         }
        },
        "xaxis": {
         "anchor": "y",
         "domain": [
          0.0,
          1.0
         ],
         "title": {
          "text": "count"
         },
         "type": "log"
        },
        "yaxis": {
         "anchor": "x",
         "domain": [
          0.0,
          1.0
         ],
         "title": {
          "text": "Category"
         }
        },
        "legend": {
         "tracegroupgap": 0
        },
        "title": {
         "text": "Counts by Condition"
        },
        "barmode": "relative"
       },
       "config": {
        "plotlyServerURL": "https://plot.ly"
       }
      },
      "text/html": "<div>                            <div id=\"c374226a-be6d-4af3-9c98-7edfa9c80857\" class=\"plotly-graph-div\" style=\"height:525px; width:100%;\"></div>            <script type=\"text/javascript\">                require([\"plotly\"], function(Plotly) {                    window.PLOTLYENV=window.PLOTLYENV || {};                                    if (document.getElementById(\"c374226a-be6d-4af3-9c98-7edfa9c80857\")) {                    Plotly.newPlot(                        \"c374226a-be6d-4af3-9c98-7edfa9c80857\",                        [{\"alignmentgroup\":\"True\",\"hovertemplate\":\"count=%{x}\\u003cbr\\u003eCategory=%{y}\\u003cextra\\u003e\\u003c\\u002fextra\\u003e\",\"legendgroup\":\"\",\"marker\":{\"color\":\"#636efa\",\"pattern\":{\"shape\":\"\"}},\"name\":\"\",\"offsetgroup\":\"\",\"orientation\":\"h\",\"showlegend\":false,\"textposition\":\"auto\",\"x\":[297864,227450,27,1],\"xaxis\":\"x\",\"y\":[\"Quite new - Little freq - Little pay\",\"Old - Least frequent - Pay least \",\"New - Quite freq - Quite high pay \",\"Little old - High freq - High pay\"],\"yaxis\":\"y\",\"type\":\"bar\"}],                        {\"template\":{\"data\":{\"barpolar\":[{\"marker\":{\"line\":{\"color\":\"white\",\"width\":0.5},\"pattern\":{\"fillmode\":\"overlay\",\"size\":10,\"solidity\":0.2}},\"type\":\"barpolar\"}],\"bar\":[{\"error_x\":{\"color\":\"#2a3f5f\"},\"error_y\":{\"color\":\"#2a3f5f\"},\"marker\":{\"line\":{\"color\":\"white\",\"width\":0.5},\"pattern\":{\"fillmode\":\"overlay\",\"size\":10,\"solidity\":0.2}},\"type\":\"bar\"}],\"carpet\":[{\"aaxis\":{\"endlinecolor\":\"#2a3f5f\",\"gridcolor\":\"#C8D4E3\",\"linecolor\":\"#C8D4E3\",\"minorgridcolor\":\"#C8D4E3\",\"startlinecolor\":\"#2a3f5f\"},\"baxis\":{\"endlinecolor\":\"#2a3f5f\",\"gridcolor\":\"#C8D4E3\",\"linecolor\":\"#C8D4E3\",\"minorgridcolor\":\"#C8D4E3\",\"startlinecolor\":\"#2a3f5f\"},\"type\":\"carpet\"}],\"choropleth\":[{\"colorbar\":{\"outlinewidth\":0,\"ticks\":\"\"},\"type\":\"choropleth\"}],\"contourcarpet\":[{\"colorbar\":{\"outlinewidth\":0,\"ticks\":\"\"},\"type\":\"contourcarpet\"}],\"contour\":[{\"colorbar\":{\"outlinewidth\":0,\"ticks\":\"\"},\"colorscale\":[[0.0,\"#0d0887\"],[0.1111111111111111,\"#46039f\"],[0.2222222222222222,\"#7201a8\"],[0.3333333333333333,\"#9c179e\"],[0.4444444444444444,\"#bd3786\"],[0.5555555555555556,\"#d8576b\"],[0.6666666666666666,\"#ed7953\"],[0.7777777777777778,\"#fb9f3a\"],[0.8888888888888888,\"#fdca26\"],[1.0,\"#f0f921\"]],\"type\":\"contour\"}],\"heatmapgl\":[{\"colorbar\":{\"outlinewidth\":0,\"ticks\":\"\"},\"colorscale\":[[0.0,\"#0d0887\"],[0.1111111111111111,\"#46039f\"],[0.2222222222222222,\"#7201a8\"],[0.3333333333333333,\"#9c179e\"],[0.4444444444444444,\"#bd3786\"],[0.5555555555555556,\"#d8576b\"],[0.6666666666666666,\"#ed7953\"],[0.7777777777777778,\"#fb9f3a\"],[0.8888888888888888,\"#fdca26\"],[1.0,\"#f0f921\"]],\"type\":\"heatmapgl\"}],\"heatmap\":[{\"colorbar\":{\"outlinewidth\":0,\"ticks\":\"\"},\"colorscale\":[[0.0,\"#0d0887\"],[0.1111111111111111,\"#46039f\"],[0.2222222222222222,\"#7201a8\"],[0.3333333333333333,\"#9c179e\"],[0.4444444444444444,\"#bd3786\"],[0.5555555555555556,\"#d8576b\"],[0.6666666666666666,\"#ed7953\"],[0.7777777777777778,\"#fb9f3a\"],[0.8888888888888888,\"#fdca26\"],[1.0,\"#f0f921\"]],\"type\":\"heatmap\"}],\"histogram2dcontour\":[{\"colorbar\":{\"outlinewidth\":0,\"ticks\":\"\"},\"colorscale\":[[0.0,\"#0d0887\"],[0.1111111111111111,\"#46039f\"],[0.2222222222222222,\"#7201a8\"],[0.3333333333333333,\"#9c179e\"],[0.4444444444444444,\"#bd3786\"],[0.5555555555555556,\"#d8576b\"],[0.6666666666666666,\"#ed7953\"],[0.7777777777777778,\"#fb9f3a\"],[0.8888888888888888,\"#fdca26\"],[1.0,\"#f0f921\"]],\"type\":\"histogram2dcontour\"}],\"histogram2d\":[{\"colorbar\":{\"outlinewidth\":0,\"ticks\":\"\"},\"colorscale\":[[0.0,\"#0d0887\"],[0.1111111111111111,\"#46039f\"],[0.2222222222222222,\"#7201a8\"],[0.3333333333333333,\"#9c179e\"],[0.4444444444444444,\"#bd3786\"],[0.5555555555555556,\"#d8576b\"],[0.6666666666666666,\"#ed7953\"],[0.7777777777777778,\"#fb9f3a\"],[0.8888888888888888,\"#fdca26\"],[1.0,\"#f0f921\"]],\"type\":\"histogram2d\"}],\"histogram\":[{\"marker\":{\"pattern\":{\"fillmode\":\"overlay\",\"size\":10,\"solidity\":0.2}},\"type\":\"histogram\"}],\"mesh3d\":[{\"colorbar\":{\"outlinewidth\":0,\"ticks\":\"\"},\"type\":\"mesh3d\"}],\"parcoords\":[{\"line\":{\"colorbar\":{\"outlinewidth\":0,\"ticks\":\"\"}},\"type\":\"parcoords\"}],\"pie\":[{\"automargin\":true,\"type\":\"pie\"}],\"scatter3d\":[{\"line\":{\"colorbar\":{\"outlinewidth\":0,\"ticks\":\"\"}},\"marker\":{\"colorbar\":{\"outlinewidth\":0,\"ticks\":\"\"}},\"type\":\"scatter3d\"}],\"scattercarpet\":[{\"marker\":{\"colorbar\":{\"outlinewidth\":0,\"ticks\":\"\"}},\"type\":\"scattercarpet\"}],\"scattergeo\":[{\"marker\":{\"colorbar\":{\"outlinewidth\":0,\"ticks\":\"\"}},\"type\":\"scattergeo\"}],\"scattergl\":[{\"marker\":{\"colorbar\":{\"outlinewidth\":0,\"ticks\":\"\"}},\"type\":\"scattergl\"}],\"scattermapbox\":[{\"marker\":{\"colorbar\":{\"outlinewidth\":0,\"ticks\":\"\"}},\"type\":\"scattermapbox\"}],\"scatterpolargl\":[{\"marker\":{\"colorbar\":{\"outlinewidth\":0,\"ticks\":\"\"}},\"type\":\"scatterpolargl\"}],\"scatterpolar\":[{\"marker\":{\"colorbar\":{\"outlinewidth\":0,\"ticks\":\"\"}},\"type\":\"scatterpolar\"}],\"scatter\":[{\"fillpattern\":{\"fillmode\":\"overlay\",\"size\":10,\"solidity\":0.2},\"type\":\"scatter\"}],\"scatterternary\":[{\"marker\":{\"colorbar\":{\"outlinewidth\":0,\"ticks\":\"\"}},\"type\":\"scatterternary\"}],\"surface\":[{\"colorbar\":{\"outlinewidth\":0,\"ticks\":\"\"},\"colorscale\":[[0.0,\"#0d0887\"],[0.1111111111111111,\"#46039f\"],[0.2222222222222222,\"#7201a8\"],[0.3333333333333333,\"#9c179e\"],[0.4444444444444444,\"#bd3786\"],[0.5555555555555556,\"#d8576b\"],[0.6666666666666666,\"#ed7953\"],[0.7777777777777778,\"#fb9f3a\"],[0.8888888888888888,\"#fdca26\"],[1.0,\"#f0f921\"]],\"type\":\"surface\"}],\"table\":[{\"cells\":{\"fill\":{\"color\":\"#EBF0F8\"},\"line\":{\"color\":\"white\"}},\"header\":{\"fill\":{\"color\":\"#C8D4E3\"},\"line\":{\"color\":\"white\"}},\"type\":\"table\"}]},\"layout\":{\"annotationdefaults\":{\"arrowcolor\":\"#2a3f5f\",\"arrowhead\":0,\"arrowwidth\":1},\"autotypenumbers\":\"strict\",\"coloraxis\":{\"colorbar\":{\"outlinewidth\":0,\"ticks\":\"\"}},\"colorscale\":{\"diverging\":[[0,\"#8e0152\"],[0.1,\"#c51b7d\"],[0.2,\"#de77ae\"],[0.3,\"#f1b6da\"],[0.4,\"#fde0ef\"],[0.5,\"#f7f7f7\"],[0.6,\"#e6f5d0\"],[0.7,\"#b8e186\"],[0.8,\"#7fbc41\"],[0.9,\"#4d9221\"],[1,\"#276419\"]],\"sequential\":[[0.0,\"#0d0887\"],[0.1111111111111111,\"#46039f\"],[0.2222222222222222,\"#7201a8\"],[0.3333333333333333,\"#9c179e\"],[0.4444444444444444,\"#bd3786\"],[0.5555555555555556,\"#d8576b\"],[0.6666666666666666,\"#ed7953\"],[0.7777777777777778,\"#fb9f3a\"],[0.8888888888888888,\"#fdca26\"],[1.0,\"#f0f921\"]],\"sequentialminus\":[[0.0,\"#0d0887\"],[0.1111111111111111,\"#46039f\"],[0.2222222222222222,\"#7201a8\"],[0.3333333333333333,\"#9c179e\"],[0.4444444444444444,\"#bd3786\"],[0.5555555555555556,\"#d8576b\"],[0.6666666666666666,\"#ed7953\"],[0.7777777777777778,\"#fb9f3a\"],[0.8888888888888888,\"#fdca26\"],[1.0,\"#f0f921\"]]},\"colorway\":[\"#636efa\",\"#EF553B\",\"#00cc96\",\"#ab63fa\",\"#FFA15A\",\"#19d3f3\",\"#FF6692\",\"#B6E880\",\"#FF97FF\",\"#FECB52\"],\"font\":{\"color\":\"#2a3f5f\"},\"geo\":{\"bgcolor\":\"white\",\"lakecolor\":\"white\",\"landcolor\":\"white\",\"showlakes\":true,\"showland\":true,\"subunitcolor\":\"#C8D4E3\"},\"hoverlabel\":{\"align\":\"left\"},\"hovermode\":\"closest\",\"mapbox\":{\"style\":\"light\"},\"paper_bgcolor\":\"white\",\"plot_bgcolor\":\"white\",\"polar\":{\"angularaxis\":{\"gridcolor\":\"#EBF0F8\",\"linecolor\":\"#EBF0F8\",\"ticks\":\"\"},\"bgcolor\":\"white\",\"radialaxis\":{\"gridcolor\":\"#EBF0F8\",\"linecolor\":\"#EBF0F8\",\"ticks\":\"\"}},\"scene\":{\"xaxis\":{\"backgroundcolor\":\"white\",\"gridcolor\":\"#DFE8F3\",\"gridwidth\":2,\"linecolor\":\"#EBF0F8\",\"showbackground\":true,\"ticks\":\"\",\"zerolinecolor\":\"#EBF0F8\"},\"yaxis\":{\"backgroundcolor\":\"white\",\"gridcolor\":\"#DFE8F3\",\"gridwidth\":2,\"linecolor\":\"#EBF0F8\",\"showbackground\":true,\"ticks\":\"\",\"zerolinecolor\":\"#EBF0F8\"},\"zaxis\":{\"backgroundcolor\":\"white\",\"gridcolor\":\"#DFE8F3\",\"gridwidth\":2,\"linecolor\":\"#EBF0F8\",\"showbackground\":true,\"ticks\":\"\",\"zerolinecolor\":\"#EBF0F8\"}},\"shapedefaults\":{\"line\":{\"color\":\"#2a3f5f\"}},\"ternary\":{\"aaxis\":{\"gridcolor\":\"#DFE8F3\",\"linecolor\":\"#A2B1C6\",\"ticks\":\"\"},\"baxis\":{\"gridcolor\":\"#DFE8F3\",\"linecolor\":\"#A2B1C6\",\"ticks\":\"\"},\"bgcolor\":\"white\",\"caxis\":{\"gridcolor\":\"#DFE8F3\",\"linecolor\":\"#A2B1C6\",\"ticks\":\"\"}},\"title\":{\"x\":0.05},\"xaxis\":{\"automargin\":true,\"gridcolor\":\"#EBF0F8\",\"linecolor\":\"#EBF0F8\",\"ticks\":\"\",\"title\":{\"standoff\":15},\"zerolinecolor\":\"#EBF0F8\",\"zerolinewidth\":2},\"yaxis\":{\"automargin\":true,\"gridcolor\":\"#EBF0F8\",\"linecolor\":\"#EBF0F8\",\"ticks\":\"\",\"title\":{\"standoff\":15},\"zerolinecolor\":\"#EBF0F8\",\"zerolinewidth\":2}}},\"xaxis\":{\"anchor\":\"y\",\"domain\":[0.0,1.0],\"title\":{\"text\":\"count\"},\"type\":\"log\"},\"yaxis\":{\"anchor\":\"x\",\"domain\":[0.0,1.0],\"title\":{\"text\":\"Category\"}},\"legend\":{\"tracegroupgap\":0},\"title\":{\"text\":\"Counts by Condition\"},\"barmode\":\"relative\"},                        {\"responsive\": true}                    ).then(function(){\n                            \nvar gd = document.getElementById('c374226a-be6d-4af3-9c98-7edfa9c80857');\nvar x = new MutationObserver(function (mutations, observer) {{\n        var display = window.getComputedStyle(gd).display;\n        if (!display || display === 'none') {{\n            console.log([gd, 'removed!']);\n            Plotly.purge(gd);\n            observer.disconnect();\n        }}\n}});\n\n// Listen for the removal of the full notebook cells\nvar notebookContainer = gd.closest('#notebook-container');\nif (notebookContainer) {{\n    x.observe(notebookContainer, {childList: true});\n}}\n\n// Listen for the clearing of the current output cell\nvar outputEl = gd.closest('.output');\nif (outputEl) {{\n    x.observe(outputEl, {childList: true});\n}}\n\n                        })                };                });            </script>        </div>"
     },
     "metadata": {},
     "output_type": "display_data"
    }
   ],
   "source": [
    "# Create an interactive bar chart \n",
    "fig = px.bar(result, x='count', orientation='h',\n",
    "             log_x=True,  # Logarithmic scale for x-axis\n",
    "             title='Counts by Condition',\n",
    "             template='plotly_white')  # Set background color to white\n",
    "fig.show()"
   ],
   "metadata": {
    "collapsed": false,
    "ExecuteTime": {
     "end_time": "2024-06-03T22:25:50.863146300Z",
     "start_time": "2024-06-03T22:25:50.697816200Z"
    }
   },
   "id": "2440872e8d321d70"
  },
  {
   "cell_type": "markdown",
   "source": [
    "### Clustering customers by divining customers into tiers"
   ],
   "metadata": {
    "collapsed": false
   },
   "id": "d135dd7e02238918"
  },
  {
   "cell_type": "code",
   "execution_count": 33,
   "outputs": [
    {
     "data": {
      "text/plain": "                          Recency  Frequency  Monetary\nCustomerId                                            \n+++SJgx/2IJ+dXq7vF8COg==      124          1    107.85\n+++aKiAiXhTfaqCLC/kyWA==      381          1     11.98\n++/G67YHZTMKdpvANeYPLw==      442          1     33.54\n++/GTDXvJzF11ZIUz81SPg==      217          1     41.94\n++0Dxza60/nPDbfORBYuuA==       34          1     53.88\n...                           ...        ...       ...\nzzyyHmcBdlPu2LT05kFnrQ==      247          1     60.00\nzzz2aWARN6OJELfdgOZpWw==       50          1    143.76\nzzzCCNCA1718e2kRryHpJQ==      380          1     23.94\nzzzj3hW4oytUbaZbp6hqiw==      392          1     14.98\nzzzkp+wC5LHXLSmDg2F9Fg==      248          1      7.33\n\n[525342 rows x 3 columns]",
      "text/html": "<div>\n<style scoped>\n    .dataframe tbody tr th:only-of-type {\n        vertical-align: middle;\n    }\n\n    .dataframe tbody tr th {\n        vertical-align: top;\n    }\n\n    .dataframe thead th {\n        text-align: right;\n    }\n</style>\n<table border=\"1\" class=\"dataframe\">\n  <thead>\n    <tr style=\"text-align: right;\">\n      <th></th>\n      <th>Recency</th>\n      <th>Frequency</th>\n      <th>Monetary</th>\n    </tr>\n    <tr>\n      <th>CustomerId</th>\n      <th></th>\n      <th></th>\n      <th></th>\n    </tr>\n  </thead>\n  <tbody>\n    <tr>\n      <th>+++SJgx/2IJ+dXq7vF8COg==</th>\n      <td>124</td>\n      <td>1</td>\n      <td>107.85</td>\n    </tr>\n    <tr>\n      <th>+++aKiAiXhTfaqCLC/kyWA==</th>\n      <td>381</td>\n      <td>1</td>\n      <td>11.98</td>\n    </tr>\n    <tr>\n      <th>++/G67YHZTMKdpvANeYPLw==</th>\n      <td>442</td>\n      <td>1</td>\n      <td>33.54</td>\n    </tr>\n    <tr>\n      <th>++/GTDXvJzF11ZIUz81SPg==</th>\n      <td>217</td>\n      <td>1</td>\n      <td>41.94</td>\n    </tr>\n    <tr>\n      <th>++0Dxza60/nPDbfORBYuuA==</th>\n      <td>34</td>\n      <td>1</td>\n      <td>53.88</td>\n    </tr>\n    <tr>\n      <th>...</th>\n      <td>...</td>\n      <td>...</td>\n      <td>...</td>\n    </tr>\n    <tr>\n      <th>zzyyHmcBdlPu2LT05kFnrQ==</th>\n      <td>247</td>\n      <td>1</td>\n      <td>60.00</td>\n    </tr>\n    <tr>\n      <th>zzz2aWARN6OJELfdgOZpWw==</th>\n      <td>50</td>\n      <td>1</td>\n      <td>143.76</td>\n    </tr>\n    <tr>\n      <th>zzzCCNCA1718e2kRryHpJQ==</th>\n      <td>380</td>\n      <td>1</td>\n      <td>23.94</td>\n    </tr>\n    <tr>\n      <th>zzzj3hW4oytUbaZbp6hqiw==</th>\n      <td>392</td>\n      <td>1</td>\n      <td>14.98</td>\n    </tr>\n    <tr>\n      <th>zzzkp+wC5LHXLSmDg2F9Fg==</th>\n      <td>248</td>\n      <td>1</td>\n      <td>7.33</td>\n    </tr>\n  </tbody>\n</table>\n<p>525342 rows × 3 columns</p>\n</div>"
     },
     "execution_count": 33,
     "metadata": {},
     "output_type": "execute_result"
    }
   ],
   "source": [
    "# Selecting only the first 3 columns of the RFM dataset\n",
    "RFM2 = RFM.iloc[:, 0:3]\n",
    "RFM2"
   ],
   "metadata": {
    "collapsed": false,
    "ExecuteTime": {
     "end_time": "2024-06-03T22:26:27.790551Z",
     "start_time": "2024-06-03T22:26:27.684675600Z"
    }
   },
   "id": "5c69ee5db0438a87"
  },
  {
   "cell_type": "code",
   "execution_count": 34,
   "outputs": [],
   "source": [
    "# Define the quantiles based on the provided summary statistics\n",
    "recency_quantiles = RFM2['Recency'].quantile([0.25, 0.5, 0.75]).tolist()\n",
    "frequency_quantiles = RFM2['Frequency'].quantile([0.25, 0.5, 0.75]).tolist()\n",
    "monetary_quantiles = RFM2['Monetary'].quantile([0.25, 0.5, 0.75]).tolist()"
   ],
   "metadata": {
    "collapsed": false,
    "ExecuteTime": {
     "end_time": "2024-06-03T22:26:30.042641500Z",
     "start_time": "2024-06-03T22:26:29.919802900Z"
    }
   },
   "id": "e2bff200bccaedd4"
  },
  {
   "cell_type": "code",
   "execution_count": 35,
   "outputs": [
    {
     "name": "stdout",
     "output_type": "stream",
     "text": [
      "[93.0, 184.0, 346.0]\n",
      "[1.0, 1.0, 1.0]\n",
      "[13.63, 41.94, 132.0]\n"
     ]
    }
   ],
   "source": [
    "print(recency_quantiles)\n",
    "print(frequency_quantiles)\n",
    "print(monetary_quantiles)"
   ],
   "metadata": {
    "collapsed": false,
    "ExecuteTime": {
     "end_time": "2024-06-03T22:26:32.258986Z",
     "start_time": "2024-06-03T22:26:32.213684400Z"
    }
   },
   "id": "268f63dbca1101ac"
  },
  {
   "cell_type": "code",
   "execution_count": 36,
   "outputs": [],
   "source": [
    "# Define functions to map R, F, M to tiers based on quantiles\n",
    "def recency_tier(recency):\n",
    "    if recency <= recency_quantiles[0]:\n",
    "        return 1\n",
    "    elif recency <= recency_quantiles[1]:\n",
    "        return 2\n",
    "    elif recency <= recency_quantiles[2]:\n",
    "        return 3\n",
    "    else:\n",
    "        return 4\n",
    "\n",
    "def frequency_tier(frequency):\n",
    "    if frequency <= frequency_quantiles[0]:\n",
    "        return 4\n",
    "    elif frequency <= frequency_quantiles[1]:\n",
    "        return 3\n",
    "    elif frequency <= frequency_quantiles[2]:\n",
    "        return 2\n",
    "    else:\n",
    "        return 1\n",
    "\n",
    "def monetary_tier(monetary):\n",
    "    if monetary <= monetary_quantiles[0]:\n",
    "        return 4\n",
    "    elif monetary <= monetary_quantiles[1]:\n",
    "        return 3\n",
    "    elif monetary <= monetary_quantiles[2]:\n",
    "        return 2\n",
    "    else:\n",
    "        return 1"
   ],
   "metadata": {
    "collapsed": false,
    "ExecuteTime": {
     "end_time": "2024-06-03T22:26:33.849649500Z",
     "start_time": "2024-06-03T22:26:33.764799900Z"
    }
   },
   "id": "48eee8a726ddc501"
  },
  {
   "cell_type": "code",
   "execution_count": 37,
   "outputs": [],
   "source": [
    "# Apply the functions to the DataFrame\n",
    "RFM2['R_Tier'] = RFM2['Recency'].apply(recency_tier)\n",
    "RFM2['F_Tier'] = RFM2['Frequency'].apply(frequency_tier)\n",
    "RFM2['M_Tier'] = RFM2['Monetary'].apply(monetary_tier)"
   ],
   "metadata": {
    "collapsed": false,
    "ExecuteTime": {
     "end_time": "2024-06-03T22:26:37.185717400Z",
     "start_time": "2024-06-03T22:26:35.549461400Z"
    }
   },
   "id": "6daa9922ed02672"
  },
  {
   "cell_type": "code",
   "execution_count": 38,
   "outputs": [],
   "source": [
    "# Define the segments of the customers\n",
    "def customer_segment(row):\n",
    "    if (row['R_Tier'] == 1) & (row['F_Tier'] == 1) & (row['M_Tier'] == 1):\n",
    "        return 'Best Customers'\n",
    "    elif (row['R_Tier'] == 1) & (row['F_Tier'] == 4) & (row['M_Tier'] == 2) | (row['M_Tier'] == 1):\n",
    "        return 'High-spending New Customers'\n",
    "    elif (row['R_Tier'] == 1) & (row['F_Tier'] == 1) & ((row['M_Tier'] == 3) | (row['M_Tier'] == 4)):\n",
    "        return 'Lowest-Spending Active Loyal Customers'\n",
    "    elif (row['R_Tier'] == 4) & ((row['F_Tier'] == 1) | (row['F_Tier'] == 2)) & ((row['M_Tier'] == 1) | (row['M_Tier'] == 2)):\n",
    "        return 'Churned Best Customers'\n",
    "    else:\n",
    "        return 'Other'"
   ],
   "metadata": {
    "collapsed": false,
    "ExecuteTime": {
     "end_time": "2024-06-03T22:26:38.487431800Z",
     "start_time": "2024-06-03T22:26:38.327713300Z"
    }
   },
   "id": "5fa46243d5be97e0"
  },
  {
   "cell_type": "code",
   "execution_count": 39,
   "outputs": [],
   "source": [
    "# Apply the function to the RFM2 dataset\n",
    "RFM2['Segment'] = RFM2.apply(customer_segment, axis=1)"
   ],
   "metadata": {
    "collapsed": false,
    "ExecuteTime": {
     "end_time": "2024-06-03T22:27:13.998928100Z",
     "start_time": "2024-06-03T22:26:40.057666900Z"
    }
   },
   "id": "604216a8ac912de1"
  },
  {
   "cell_type": "code",
   "execution_count": 40,
   "outputs": [
    {
     "data": {
      "text/plain": "                          Recency  Frequency  Monetary  R_Tier  F_Tier  \\\nCustomerId                                                               \n+++SJgx/2IJ+dXq7vF8COg==      124          1    107.85       2       4   \n+++aKiAiXhTfaqCLC/kyWA==      381          1     11.98       4       4   \n++/G67YHZTMKdpvANeYPLw==      442          1     33.54       4       4   \n++/GTDXvJzF11ZIUz81SPg==      217          1     41.94       3       4   \n++0Dxza60/nPDbfORBYuuA==       34          1     53.88       1       4   \n...                           ...        ...       ...     ...     ...   \nzzyyHmcBdlPu2LT05kFnrQ==      247          1     60.00       3       4   \nzzz2aWARN6OJELfdgOZpWw==       50          1    143.76       1       4   \nzzzCCNCA1718e2kRryHpJQ==      380          1     23.94       4       4   \nzzzj3hW4oytUbaZbp6hqiw==      392          1     14.98       4       4   \nzzzkp+wC5LHXLSmDg2F9Fg==      248          1      7.33       3       4   \n\n                          M_Tier                      Segment  \nCustomerId                                                     \n+++SJgx/2IJ+dXq7vF8COg==       2                        Other  \n+++aKiAiXhTfaqCLC/kyWA==       4                        Other  \n++/G67YHZTMKdpvANeYPLw==       3                        Other  \n++/GTDXvJzF11ZIUz81SPg==       3                        Other  \n++0Dxza60/nPDbfORBYuuA==       2  High-spending New Customers  \n...                          ...                          ...  \nzzyyHmcBdlPu2LT05kFnrQ==       2                        Other  \nzzz2aWARN6OJELfdgOZpWw==       1  High-spending New Customers  \nzzzCCNCA1718e2kRryHpJQ==       3                        Other  \nzzzj3hW4oytUbaZbp6hqiw==       3                        Other  \nzzzkp+wC5LHXLSmDg2F9Fg==       4                        Other  \n\n[525342 rows x 7 columns]",
      "text/html": "<div>\n<style scoped>\n    .dataframe tbody tr th:only-of-type {\n        vertical-align: middle;\n    }\n\n    .dataframe tbody tr th {\n        vertical-align: top;\n    }\n\n    .dataframe thead th {\n        text-align: right;\n    }\n</style>\n<table border=\"1\" class=\"dataframe\">\n  <thead>\n    <tr style=\"text-align: right;\">\n      <th></th>\n      <th>Recency</th>\n      <th>Frequency</th>\n      <th>Monetary</th>\n      <th>R_Tier</th>\n      <th>F_Tier</th>\n      <th>M_Tier</th>\n      <th>Segment</th>\n    </tr>\n    <tr>\n      <th>CustomerId</th>\n      <th></th>\n      <th></th>\n      <th></th>\n      <th></th>\n      <th></th>\n      <th></th>\n      <th></th>\n    </tr>\n  </thead>\n  <tbody>\n    <tr>\n      <th>+++SJgx/2IJ+dXq7vF8COg==</th>\n      <td>124</td>\n      <td>1</td>\n      <td>107.85</td>\n      <td>2</td>\n      <td>4</td>\n      <td>2</td>\n      <td>Other</td>\n    </tr>\n    <tr>\n      <th>+++aKiAiXhTfaqCLC/kyWA==</th>\n      <td>381</td>\n      <td>1</td>\n      <td>11.98</td>\n      <td>4</td>\n      <td>4</td>\n      <td>4</td>\n      <td>Other</td>\n    </tr>\n    <tr>\n      <th>++/G67YHZTMKdpvANeYPLw==</th>\n      <td>442</td>\n      <td>1</td>\n      <td>33.54</td>\n      <td>4</td>\n      <td>4</td>\n      <td>3</td>\n      <td>Other</td>\n    </tr>\n    <tr>\n      <th>++/GTDXvJzF11ZIUz81SPg==</th>\n      <td>217</td>\n      <td>1</td>\n      <td>41.94</td>\n      <td>3</td>\n      <td>4</td>\n      <td>3</td>\n      <td>Other</td>\n    </tr>\n    <tr>\n      <th>++0Dxza60/nPDbfORBYuuA==</th>\n      <td>34</td>\n      <td>1</td>\n      <td>53.88</td>\n      <td>1</td>\n      <td>4</td>\n      <td>2</td>\n      <td>High-spending New Customers</td>\n    </tr>\n    <tr>\n      <th>...</th>\n      <td>...</td>\n      <td>...</td>\n      <td>...</td>\n      <td>...</td>\n      <td>...</td>\n      <td>...</td>\n      <td>...</td>\n    </tr>\n    <tr>\n      <th>zzyyHmcBdlPu2LT05kFnrQ==</th>\n      <td>247</td>\n      <td>1</td>\n      <td>60.00</td>\n      <td>3</td>\n      <td>4</td>\n      <td>2</td>\n      <td>Other</td>\n    </tr>\n    <tr>\n      <th>zzz2aWARN6OJELfdgOZpWw==</th>\n      <td>50</td>\n      <td>1</td>\n      <td>143.76</td>\n      <td>1</td>\n      <td>4</td>\n      <td>1</td>\n      <td>High-spending New Customers</td>\n    </tr>\n    <tr>\n      <th>zzzCCNCA1718e2kRryHpJQ==</th>\n      <td>380</td>\n      <td>1</td>\n      <td>23.94</td>\n      <td>4</td>\n      <td>4</td>\n      <td>3</td>\n      <td>Other</td>\n    </tr>\n    <tr>\n      <th>zzzj3hW4oytUbaZbp6hqiw==</th>\n      <td>392</td>\n      <td>1</td>\n      <td>14.98</td>\n      <td>4</td>\n      <td>4</td>\n      <td>3</td>\n      <td>Other</td>\n    </tr>\n    <tr>\n      <th>zzzkp+wC5LHXLSmDg2F9Fg==</th>\n      <td>248</td>\n      <td>1</td>\n      <td>7.33</td>\n      <td>3</td>\n      <td>4</td>\n      <td>4</td>\n      <td>Other</td>\n    </tr>\n  </tbody>\n</table>\n<p>525342 rows × 7 columns</p>\n</div>"
     },
     "execution_count": 40,
     "metadata": {},
     "output_type": "execute_result"
    }
   ],
   "source": [
    "RFM2"
   ],
   "metadata": {
    "collapsed": false,
    "ExecuteTime": {
     "end_time": "2024-06-03T22:27:22.329429700Z",
     "start_time": "2024-06-03T22:27:22.231940500Z"
    }
   },
   "id": "441bab695d3d4184"
  },
  {
   "cell_type": "code",
   "execution_count": 41,
   "outputs": [
    {
     "data": {
      "text/plain": "                                  Segment   Count\n0                                   Other  363399\n1             High-spending New Customers  123749\n2                          Best Customers   25233\n3  Lowest-Spending Active Loyal Customers    9773\n4                  Churned Best Customers    3188",
      "text/html": "<div>\n<style scoped>\n    .dataframe tbody tr th:only-of-type {\n        vertical-align: middle;\n    }\n\n    .dataframe tbody tr th {\n        vertical-align: top;\n    }\n\n    .dataframe thead th {\n        text-align: right;\n    }\n</style>\n<table border=\"1\" class=\"dataframe\">\n  <thead>\n    <tr style=\"text-align: right;\">\n      <th></th>\n      <th>Segment</th>\n      <th>Count</th>\n    </tr>\n  </thead>\n  <tbody>\n    <tr>\n      <th>0</th>\n      <td>Other</td>\n      <td>363399</td>\n    </tr>\n    <tr>\n      <th>1</th>\n      <td>High-spending New Customers</td>\n      <td>123749</td>\n    </tr>\n    <tr>\n      <th>2</th>\n      <td>Best Customers</td>\n      <td>25233</td>\n    </tr>\n    <tr>\n      <th>3</th>\n      <td>Lowest-Spending Active Loyal Customers</td>\n      <td>9773</td>\n    </tr>\n    <tr>\n      <th>4</th>\n      <td>Churned Best Customers</td>\n      <td>3188</td>\n    </tr>\n  </tbody>\n</table>\n</div>"
     },
     "execution_count": 41,
     "metadata": {},
     "output_type": "execute_result"
    }
   ],
   "source": [
    "# Count the number of each segment\n",
    "segment_counts = RFM2['Segment'].value_counts()\n",
    "# Reset index to make 'Segment' a column\n",
    "segment_counts= segment_counts.reset_index()\n",
    "# Rename columns \n",
    "segment_counts.columns = ['Segment', 'Count']\n",
    "segment_counts"
   ],
   "metadata": {
    "collapsed": false,
    "ExecuteTime": {
     "end_time": "2024-06-03T22:27:24.981593900Z",
     "start_time": "2024-06-03T22:27:24.872980Z"
    }
   },
   "id": "83840ca660b2ab9c"
  },
  {
   "cell_type": "code",
   "execution_count": 42,
   "outputs": [
    {
     "data": {
      "application/vnd.plotly.v1+json": {
       "data": [
        {
         "alignmentgroup": "True",
         "hovertemplate": "Segment=%{x}<br>Count=%{y}<extra></extra>",
         "legendgroup": "",
         "marker": {
          "color": "#636efa",
          "pattern": {
           "shape": ""
          }
         },
         "name": "",
         "offsetgroup": "",
         "orientation": "v",
         "showlegend": false,
         "textposition": "auto",
         "x": [
          "Other",
          "High-spending New Customers",
          "Best Customers",
          "Lowest-Spending Active Loyal Customers",
          "Churned Best Customers"
         ],
         "xaxis": "x",
         "y": [
          363399,
          123749,
          25233,
          9773,
          3188
         ],
         "yaxis": "y",
         "type": "bar"
        }
       ],
       "layout": {
        "template": {
         "data": {
          "barpolar": [
           {
            "marker": {
             "line": {
              "color": "white",
              "width": 0.5
             },
             "pattern": {
              "fillmode": "overlay",
              "size": 10,
              "solidity": 0.2
             }
            },
            "type": "barpolar"
           }
          ],
          "bar": [
           {
            "error_x": {
             "color": "#2a3f5f"
            },
            "error_y": {
             "color": "#2a3f5f"
            },
            "marker": {
             "line": {
              "color": "white",
              "width": 0.5
             },
             "pattern": {
              "fillmode": "overlay",
              "size": 10,
              "solidity": 0.2
             }
            },
            "type": "bar"
           }
          ],
          "carpet": [
           {
            "aaxis": {
             "endlinecolor": "#2a3f5f",
             "gridcolor": "#C8D4E3",
             "linecolor": "#C8D4E3",
             "minorgridcolor": "#C8D4E3",
             "startlinecolor": "#2a3f5f"
            },
            "baxis": {
             "endlinecolor": "#2a3f5f",
             "gridcolor": "#C8D4E3",
             "linecolor": "#C8D4E3",
             "minorgridcolor": "#C8D4E3",
             "startlinecolor": "#2a3f5f"
            },
            "type": "carpet"
           }
          ],
          "choropleth": [
           {
            "colorbar": {
             "outlinewidth": 0,
             "ticks": ""
            },
            "type": "choropleth"
           }
          ],
          "contourcarpet": [
           {
            "colorbar": {
             "outlinewidth": 0,
             "ticks": ""
            },
            "type": "contourcarpet"
           }
          ],
          "contour": [
           {
            "colorbar": {
             "outlinewidth": 0,
             "ticks": ""
            },
            "colorscale": [
             [
              0.0,
              "#0d0887"
             ],
             [
              0.1111111111111111,
              "#46039f"
             ],
             [
              0.2222222222222222,
              "#7201a8"
             ],
             [
              0.3333333333333333,
              "#9c179e"
             ],
             [
              0.4444444444444444,
              "#bd3786"
             ],
             [
              0.5555555555555556,
              "#d8576b"
             ],
             [
              0.6666666666666666,
              "#ed7953"
             ],
             [
              0.7777777777777778,
              "#fb9f3a"
             ],
             [
              0.8888888888888888,
              "#fdca26"
             ],
             [
              1.0,
              "#f0f921"
             ]
            ],
            "type": "contour"
           }
          ],
          "heatmapgl": [
           {
            "colorbar": {
             "outlinewidth": 0,
             "ticks": ""
            },
            "colorscale": [
             [
              0.0,
              "#0d0887"
             ],
             [
              0.1111111111111111,
              "#46039f"
             ],
             [
              0.2222222222222222,
              "#7201a8"
             ],
             [
              0.3333333333333333,
              "#9c179e"
             ],
             [
              0.4444444444444444,
              "#bd3786"
             ],
             [
              0.5555555555555556,
              "#d8576b"
             ],
             [
              0.6666666666666666,
              "#ed7953"
             ],
             [
              0.7777777777777778,
              "#fb9f3a"
             ],
             [
              0.8888888888888888,
              "#fdca26"
             ],
             [
              1.0,
              "#f0f921"
             ]
            ],
            "type": "heatmapgl"
           }
          ],
          "heatmap": [
           {
            "colorbar": {
             "outlinewidth": 0,
             "ticks": ""
            },
            "colorscale": [
             [
              0.0,
              "#0d0887"
             ],
             [
              0.1111111111111111,
              "#46039f"
             ],
             [
              0.2222222222222222,
              "#7201a8"
             ],
             [
              0.3333333333333333,
              "#9c179e"
             ],
             [
              0.4444444444444444,
              "#bd3786"
             ],
             [
              0.5555555555555556,
              "#d8576b"
             ],
             [
              0.6666666666666666,
              "#ed7953"
             ],
             [
              0.7777777777777778,
              "#fb9f3a"
             ],
             [
              0.8888888888888888,
              "#fdca26"
             ],
             [
              1.0,
              "#f0f921"
             ]
            ],
            "type": "heatmap"
           }
          ],
          "histogram2dcontour": [
           {
            "colorbar": {
             "outlinewidth": 0,
             "ticks": ""
            },
            "colorscale": [
             [
              0.0,
              "#0d0887"
             ],
             [
              0.1111111111111111,
              "#46039f"
             ],
             [
              0.2222222222222222,
              "#7201a8"
             ],
             [
              0.3333333333333333,
              "#9c179e"
             ],
             [
              0.4444444444444444,
              "#bd3786"
             ],
             [
              0.5555555555555556,
              "#d8576b"
             ],
             [
              0.6666666666666666,
              "#ed7953"
             ],
             [
              0.7777777777777778,
              "#fb9f3a"
             ],
             [
              0.8888888888888888,
              "#fdca26"
             ],
             [
              1.0,
              "#f0f921"
             ]
            ],
            "type": "histogram2dcontour"
           }
          ],
          "histogram2d": [
           {
            "colorbar": {
             "outlinewidth": 0,
             "ticks": ""
            },
            "colorscale": [
             [
              0.0,
              "#0d0887"
             ],
             [
              0.1111111111111111,
              "#46039f"
             ],
             [
              0.2222222222222222,
              "#7201a8"
             ],
             [
              0.3333333333333333,
              "#9c179e"
             ],
             [
              0.4444444444444444,
              "#bd3786"
             ],
             [
              0.5555555555555556,
              "#d8576b"
             ],
             [
              0.6666666666666666,
              "#ed7953"
             ],
             [
              0.7777777777777778,
              "#fb9f3a"
             ],
             [
              0.8888888888888888,
              "#fdca26"
             ],
             [
              1.0,
              "#f0f921"
             ]
            ],
            "type": "histogram2d"
           }
          ],
          "histogram": [
           {
            "marker": {
             "pattern": {
              "fillmode": "overlay",
              "size": 10,
              "solidity": 0.2
             }
            },
            "type": "histogram"
           }
          ],
          "mesh3d": [
           {
            "colorbar": {
             "outlinewidth": 0,
             "ticks": ""
            },
            "type": "mesh3d"
           }
          ],
          "parcoords": [
           {
            "line": {
             "colorbar": {
              "outlinewidth": 0,
              "ticks": ""
             }
            },
            "type": "parcoords"
           }
          ],
          "pie": [
           {
            "automargin": true,
            "type": "pie"
           }
          ],
          "scatter3d": [
           {
            "line": {
             "colorbar": {
              "outlinewidth": 0,
              "ticks": ""
             }
            },
            "marker": {
             "colorbar": {
              "outlinewidth": 0,
              "ticks": ""
             }
            },
            "type": "scatter3d"
           }
          ],
          "scattercarpet": [
           {
            "marker": {
             "colorbar": {
              "outlinewidth": 0,
              "ticks": ""
             }
            },
            "type": "scattercarpet"
           }
          ],
          "scattergeo": [
           {
            "marker": {
             "colorbar": {
              "outlinewidth": 0,
              "ticks": ""
             }
            },
            "type": "scattergeo"
           }
          ],
          "scattergl": [
           {
            "marker": {
             "colorbar": {
              "outlinewidth": 0,
              "ticks": ""
             }
            },
            "type": "scattergl"
           }
          ],
          "scattermapbox": [
           {
            "marker": {
             "colorbar": {
              "outlinewidth": 0,
              "ticks": ""
             }
            },
            "type": "scattermapbox"
           }
          ],
          "scatterpolargl": [
           {
            "marker": {
             "colorbar": {
              "outlinewidth": 0,
              "ticks": ""
             }
            },
            "type": "scatterpolargl"
           }
          ],
          "scatterpolar": [
           {
            "marker": {
             "colorbar": {
              "outlinewidth": 0,
              "ticks": ""
             }
            },
            "type": "scatterpolar"
           }
          ],
          "scatter": [
           {
            "fillpattern": {
             "fillmode": "overlay",
             "size": 10,
             "solidity": 0.2
            },
            "type": "scatter"
           }
          ],
          "scatterternary": [
           {
            "marker": {
             "colorbar": {
              "outlinewidth": 0,
              "ticks": ""
             }
            },
            "type": "scatterternary"
           }
          ],
          "surface": [
           {
            "colorbar": {
             "outlinewidth": 0,
             "ticks": ""
            },
            "colorscale": [
             [
              0.0,
              "#0d0887"
             ],
             [
              0.1111111111111111,
              "#46039f"
             ],
             [
              0.2222222222222222,
              "#7201a8"
             ],
             [
              0.3333333333333333,
              "#9c179e"
             ],
             [
              0.4444444444444444,
              "#bd3786"
             ],
             [
              0.5555555555555556,
              "#d8576b"
             ],
             [
              0.6666666666666666,
              "#ed7953"
             ],
             [
              0.7777777777777778,
              "#fb9f3a"
             ],
             [
              0.8888888888888888,
              "#fdca26"
             ],
             [
              1.0,
              "#f0f921"
             ]
            ],
            "type": "surface"
           }
          ],
          "table": [
           {
            "cells": {
             "fill": {
              "color": "#EBF0F8"
             },
             "line": {
              "color": "white"
             }
            },
            "header": {
             "fill": {
              "color": "#C8D4E3"
             },
             "line": {
              "color": "white"
             }
            },
            "type": "table"
           }
          ]
         },
         "layout": {
          "annotationdefaults": {
           "arrowcolor": "#2a3f5f",
           "arrowhead": 0,
           "arrowwidth": 1
          },
          "autotypenumbers": "strict",
          "coloraxis": {
           "colorbar": {
            "outlinewidth": 0,
            "ticks": ""
           }
          },
          "colorscale": {
           "diverging": [
            [
             0,
             "#8e0152"
            ],
            [
             0.1,
             "#c51b7d"
            ],
            [
             0.2,
             "#de77ae"
            ],
            [
             0.3,
             "#f1b6da"
            ],
            [
             0.4,
             "#fde0ef"
            ],
            [
             0.5,
             "#f7f7f7"
            ],
            [
             0.6,
             "#e6f5d0"
            ],
            [
             0.7,
             "#b8e186"
            ],
            [
             0.8,
             "#7fbc41"
            ],
            [
             0.9,
             "#4d9221"
            ],
            [
             1,
             "#276419"
            ]
           ],
           "sequential": [
            [
             0.0,
             "#0d0887"
            ],
            [
             0.1111111111111111,
             "#46039f"
            ],
            [
             0.2222222222222222,
             "#7201a8"
            ],
            [
             0.3333333333333333,
             "#9c179e"
            ],
            [
             0.4444444444444444,
             "#bd3786"
            ],
            [
             0.5555555555555556,
             "#d8576b"
            ],
            [
             0.6666666666666666,
             "#ed7953"
            ],
            [
             0.7777777777777778,
             "#fb9f3a"
            ],
            [
             0.8888888888888888,
             "#fdca26"
            ],
            [
             1.0,
             "#f0f921"
            ]
           ],
           "sequentialminus": [
            [
             0.0,
             "#0d0887"
            ],
            [
             0.1111111111111111,
             "#46039f"
            ],
            [
             0.2222222222222222,
             "#7201a8"
            ],
            [
             0.3333333333333333,
             "#9c179e"
            ],
            [
             0.4444444444444444,
             "#bd3786"
            ],
            [
             0.5555555555555556,
             "#d8576b"
            ],
            [
             0.6666666666666666,
             "#ed7953"
            ],
            [
             0.7777777777777778,
             "#fb9f3a"
            ],
            [
             0.8888888888888888,
             "#fdca26"
            ],
            [
             1.0,
             "#f0f921"
            ]
           ]
          },
          "colorway": [
           "#636efa",
           "#EF553B",
           "#00cc96",
           "#ab63fa",
           "#FFA15A",
           "#19d3f3",
           "#FF6692",
           "#B6E880",
           "#FF97FF",
           "#FECB52"
          ],
          "font": {
           "color": "#2a3f5f"
          },
          "geo": {
           "bgcolor": "white",
           "lakecolor": "white",
           "landcolor": "white",
           "showlakes": true,
           "showland": true,
           "subunitcolor": "#C8D4E3"
          },
          "hoverlabel": {
           "align": "left"
          },
          "hovermode": "closest",
          "mapbox": {
           "style": "light"
          },
          "paper_bgcolor": "white",
          "plot_bgcolor": "white",
          "polar": {
           "angularaxis": {
            "gridcolor": "#EBF0F8",
            "linecolor": "#EBF0F8",
            "ticks": ""
           },
           "bgcolor": "white",
           "radialaxis": {
            "gridcolor": "#EBF0F8",
            "linecolor": "#EBF0F8",
            "ticks": ""
           }
          },
          "scene": {
           "xaxis": {
            "backgroundcolor": "white",
            "gridcolor": "#DFE8F3",
            "gridwidth": 2,
            "linecolor": "#EBF0F8",
            "showbackground": true,
            "ticks": "",
            "zerolinecolor": "#EBF0F8"
           },
           "yaxis": {
            "backgroundcolor": "white",
            "gridcolor": "#DFE8F3",
            "gridwidth": 2,
            "linecolor": "#EBF0F8",
            "showbackground": true,
            "ticks": "",
            "zerolinecolor": "#EBF0F8"
           },
           "zaxis": {
            "backgroundcolor": "white",
            "gridcolor": "#DFE8F3",
            "gridwidth": 2,
            "linecolor": "#EBF0F8",
            "showbackground": true,
            "ticks": "",
            "zerolinecolor": "#EBF0F8"
           }
          },
          "shapedefaults": {
           "line": {
            "color": "#2a3f5f"
           }
          },
          "ternary": {
           "aaxis": {
            "gridcolor": "#DFE8F3",
            "linecolor": "#A2B1C6",
            "ticks": ""
           },
           "baxis": {
            "gridcolor": "#DFE8F3",
            "linecolor": "#A2B1C6",
            "ticks": ""
           },
           "bgcolor": "white",
           "caxis": {
            "gridcolor": "#DFE8F3",
            "linecolor": "#A2B1C6",
            "ticks": ""
           }
          },
          "title": {
           "x": 0.05
          },
          "xaxis": {
           "automargin": true,
           "gridcolor": "#EBF0F8",
           "linecolor": "#EBF0F8",
           "ticks": "",
           "title": {
            "standoff": 15
           },
           "zerolinecolor": "#EBF0F8",
           "zerolinewidth": 2
          },
          "yaxis": {
           "automargin": true,
           "gridcolor": "#EBF0F8",
           "linecolor": "#EBF0F8",
           "ticks": "",
           "title": {
            "standoff": 15
           },
           "zerolinecolor": "#EBF0F8",
           "zerolinewidth": 2
          }
         }
        },
        "xaxis": {
         "anchor": "y",
         "domain": [
          0.0,
          1.0
         ],
         "title": {
          "text": "Segment"
         }
        },
        "yaxis": {
         "anchor": "x",
         "domain": [
          0.0,
          1.0
         ],
         "title": {
          "text": "Count"
         }
        },
        "legend": {
         "tracegroupgap": 0
        },
        "title": {
         "text": "Counts by Segment"
        },
        "barmode": "relative",
        "height": 600
       },
       "config": {
        "plotlyServerURL": "https://plot.ly"
       }
      },
      "text/html": "<div>                            <div id=\"caa7d392-305a-48d4-8c69-b8a3acb7fa18\" class=\"plotly-graph-div\" style=\"height:600px; width:100%;\"></div>            <script type=\"text/javascript\">                require([\"plotly\"], function(Plotly) {                    window.PLOTLYENV=window.PLOTLYENV || {};                                    if (document.getElementById(\"caa7d392-305a-48d4-8c69-b8a3acb7fa18\")) {                    Plotly.newPlot(                        \"caa7d392-305a-48d4-8c69-b8a3acb7fa18\",                        [{\"alignmentgroup\":\"True\",\"hovertemplate\":\"Segment=%{x}\\u003cbr\\u003eCount=%{y}\\u003cextra\\u003e\\u003c\\u002fextra\\u003e\",\"legendgroup\":\"\",\"marker\":{\"color\":\"#636efa\",\"pattern\":{\"shape\":\"\"}},\"name\":\"\",\"offsetgroup\":\"\",\"orientation\":\"v\",\"showlegend\":false,\"textposition\":\"auto\",\"x\":[\"Other\",\"High-spending New Customers\",\"Best Customers\",\"Lowest-Spending Active Loyal Customers\",\"Churned Best Customers\"],\"xaxis\":\"x\",\"y\":[363399,123749,25233,9773,3188],\"yaxis\":\"y\",\"type\":\"bar\"}],                        {\"template\":{\"data\":{\"barpolar\":[{\"marker\":{\"line\":{\"color\":\"white\",\"width\":0.5},\"pattern\":{\"fillmode\":\"overlay\",\"size\":10,\"solidity\":0.2}},\"type\":\"barpolar\"}],\"bar\":[{\"error_x\":{\"color\":\"#2a3f5f\"},\"error_y\":{\"color\":\"#2a3f5f\"},\"marker\":{\"line\":{\"color\":\"white\",\"width\":0.5},\"pattern\":{\"fillmode\":\"overlay\",\"size\":10,\"solidity\":0.2}},\"type\":\"bar\"}],\"carpet\":[{\"aaxis\":{\"endlinecolor\":\"#2a3f5f\",\"gridcolor\":\"#C8D4E3\",\"linecolor\":\"#C8D4E3\",\"minorgridcolor\":\"#C8D4E3\",\"startlinecolor\":\"#2a3f5f\"},\"baxis\":{\"endlinecolor\":\"#2a3f5f\",\"gridcolor\":\"#C8D4E3\",\"linecolor\":\"#C8D4E3\",\"minorgridcolor\":\"#C8D4E3\",\"startlinecolor\":\"#2a3f5f\"},\"type\":\"carpet\"}],\"choropleth\":[{\"colorbar\":{\"outlinewidth\":0,\"ticks\":\"\"},\"type\":\"choropleth\"}],\"contourcarpet\":[{\"colorbar\":{\"outlinewidth\":0,\"ticks\":\"\"},\"type\":\"contourcarpet\"}],\"contour\":[{\"colorbar\":{\"outlinewidth\":0,\"ticks\":\"\"},\"colorscale\":[[0.0,\"#0d0887\"],[0.1111111111111111,\"#46039f\"],[0.2222222222222222,\"#7201a8\"],[0.3333333333333333,\"#9c179e\"],[0.4444444444444444,\"#bd3786\"],[0.5555555555555556,\"#d8576b\"],[0.6666666666666666,\"#ed7953\"],[0.7777777777777778,\"#fb9f3a\"],[0.8888888888888888,\"#fdca26\"],[1.0,\"#f0f921\"]],\"type\":\"contour\"}],\"heatmapgl\":[{\"colorbar\":{\"outlinewidth\":0,\"ticks\":\"\"},\"colorscale\":[[0.0,\"#0d0887\"],[0.1111111111111111,\"#46039f\"],[0.2222222222222222,\"#7201a8\"],[0.3333333333333333,\"#9c179e\"],[0.4444444444444444,\"#bd3786\"],[0.5555555555555556,\"#d8576b\"],[0.6666666666666666,\"#ed7953\"],[0.7777777777777778,\"#fb9f3a\"],[0.8888888888888888,\"#fdca26\"],[1.0,\"#f0f921\"]],\"type\":\"heatmapgl\"}],\"heatmap\":[{\"colorbar\":{\"outlinewidth\":0,\"ticks\":\"\"},\"colorscale\":[[0.0,\"#0d0887\"],[0.1111111111111111,\"#46039f\"],[0.2222222222222222,\"#7201a8\"],[0.3333333333333333,\"#9c179e\"],[0.4444444444444444,\"#bd3786\"],[0.5555555555555556,\"#d8576b\"],[0.6666666666666666,\"#ed7953\"],[0.7777777777777778,\"#fb9f3a\"],[0.8888888888888888,\"#fdca26\"],[1.0,\"#f0f921\"]],\"type\":\"heatmap\"}],\"histogram2dcontour\":[{\"colorbar\":{\"outlinewidth\":0,\"ticks\":\"\"},\"colorscale\":[[0.0,\"#0d0887\"],[0.1111111111111111,\"#46039f\"],[0.2222222222222222,\"#7201a8\"],[0.3333333333333333,\"#9c179e\"],[0.4444444444444444,\"#bd3786\"],[0.5555555555555556,\"#d8576b\"],[0.6666666666666666,\"#ed7953\"],[0.7777777777777778,\"#fb9f3a\"],[0.8888888888888888,\"#fdca26\"],[1.0,\"#f0f921\"]],\"type\":\"histogram2dcontour\"}],\"histogram2d\":[{\"colorbar\":{\"outlinewidth\":0,\"ticks\":\"\"},\"colorscale\":[[0.0,\"#0d0887\"],[0.1111111111111111,\"#46039f\"],[0.2222222222222222,\"#7201a8\"],[0.3333333333333333,\"#9c179e\"],[0.4444444444444444,\"#bd3786\"],[0.5555555555555556,\"#d8576b\"],[0.6666666666666666,\"#ed7953\"],[0.7777777777777778,\"#fb9f3a\"],[0.8888888888888888,\"#fdca26\"],[1.0,\"#f0f921\"]],\"type\":\"histogram2d\"}],\"histogram\":[{\"marker\":{\"pattern\":{\"fillmode\":\"overlay\",\"size\":10,\"solidity\":0.2}},\"type\":\"histogram\"}],\"mesh3d\":[{\"colorbar\":{\"outlinewidth\":0,\"ticks\":\"\"},\"type\":\"mesh3d\"}],\"parcoords\":[{\"line\":{\"colorbar\":{\"outlinewidth\":0,\"ticks\":\"\"}},\"type\":\"parcoords\"}],\"pie\":[{\"automargin\":true,\"type\":\"pie\"}],\"scatter3d\":[{\"line\":{\"colorbar\":{\"outlinewidth\":0,\"ticks\":\"\"}},\"marker\":{\"colorbar\":{\"outlinewidth\":0,\"ticks\":\"\"}},\"type\":\"scatter3d\"}],\"scattercarpet\":[{\"marker\":{\"colorbar\":{\"outlinewidth\":0,\"ticks\":\"\"}},\"type\":\"scattercarpet\"}],\"scattergeo\":[{\"marker\":{\"colorbar\":{\"outlinewidth\":0,\"ticks\":\"\"}},\"type\":\"scattergeo\"}],\"scattergl\":[{\"marker\":{\"colorbar\":{\"outlinewidth\":0,\"ticks\":\"\"}},\"type\":\"scattergl\"}],\"scattermapbox\":[{\"marker\":{\"colorbar\":{\"outlinewidth\":0,\"ticks\":\"\"}},\"type\":\"scattermapbox\"}],\"scatterpolargl\":[{\"marker\":{\"colorbar\":{\"outlinewidth\":0,\"ticks\":\"\"}},\"type\":\"scatterpolargl\"}],\"scatterpolar\":[{\"marker\":{\"colorbar\":{\"outlinewidth\":0,\"ticks\":\"\"}},\"type\":\"scatterpolar\"}],\"scatter\":[{\"fillpattern\":{\"fillmode\":\"overlay\",\"size\":10,\"solidity\":0.2},\"type\":\"scatter\"}],\"scatterternary\":[{\"marker\":{\"colorbar\":{\"outlinewidth\":0,\"ticks\":\"\"}},\"type\":\"scatterternary\"}],\"surface\":[{\"colorbar\":{\"outlinewidth\":0,\"ticks\":\"\"},\"colorscale\":[[0.0,\"#0d0887\"],[0.1111111111111111,\"#46039f\"],[0.2222222222222222,\"#7201a8\"],[0.3333333333333333,\"#9c179e\"],[0.4444444444444444,\"#bd3786\"],[0.5555555555555556,\"#d8576b\"],[0.6666666666666666,\"#ed7953\"],[0.7777777777777778,\"#fb9f3a\"],[0.8888888888888888,\"#fdca26\"],[1.0,\"#f0f921\"]],\"type\":\"surface\"}],\"table\":[{\"cells\":{\"fill\":{\"color\":\"#EBF0F8\"},\"line\":{\"color\":\"white\"}},\"header\":{\"fill\":{\"color\":\"#C8D4E3\"},\"line\":{\"color\":\"white\"}},\"type\":\"table\"}]},\"layout\":{\"annotationdefaults\":{\"arrowcolor\":\"#2a3f5f\",\"arrowhead\":0,\"arrowwidth\":1},\"autotypenumbers\":\"strict\",\"coloraxis\":{\"colorbar\":{\"outlinewidth\":0,\"ticks\":\"\"}},\"colorscale\":{\"diverging\":[[0,\"#8e0152\"],[0.1,\"#c51b7d\"],[0.2,\"#de77ae\"],[0.3,\"#f1b6da\"],[0.4,\"#fde0ef\"],[0.5,\"#f7f7f7\"],[0.6,\"#e6f5d0\"],[0.7,\"#b8e186\"],[0.8,\"#7fbc41\"],[0.9,\"#4d9221\"],[1,\"#276419\"]],\"sequential\":[[0.0,\"#0d0887\"],[0.1111111111111111,\"#46039f\"],[0.2222222222222222,\"#7201a8\"],[0.3333333333333333,\"#9c179e\"],[0.4444444444444444,\"#bd3786\"],[0.5555555555555556,\"#d8576b\"],[0.6666666666666666,\"#ed7953\"],[0.7777777777777778,\"#fb9f3a\"],[0.8888888888888888,\"#fdca26\"],[1.0,\"#f0f921\"]],\"sequentialminus\":[[0.0,\"#0d0887\"],[0.1111111111111111,\"#46039f\"],[0.2222222222222222,\"#7201a8\"],[0.3333333333333333,\"#9c179e\"],[0.4444444444444444,\"#bd3786\"],[0.5555555555555556,\"#d8576b\"],[0.6666666666666666,\"#ed7953\"],[0.7777777777777778,\"#fb9f3a\"],[0.8888888888888888,\"#fdca26\"],[1.0,\"#f0f921\"]]},\"colorway\":[\"#636efa\",\"#EF553B\",\"#00cc96\",\"#ab63fa\",\"#FFA15A\",\"#19d3f3\",\"#FF6692\",\"#B6E880\",\"#FF97FF\",\"#FECB52\"],\"font\":{\"color\":\"#2a3f5f\"},\"geo\":{\"bgcolor\":\"white\",\"lakecolor\":\"white\",\"landcolor\":\"white\",\"showlakes\":true,\"showland\":true,\"subunitcolor\":\"#C8D4E3\"},\"hoverlabel\":{\"align\":\"left\"},\"hovermode\":\"closest\",\"mapbox\":{\"style\":\"light\"},\"paper_bgcolor\":\"white\",\"plot_bgcolor\":\"white\",\"polar\":{\"angularaxis\":{\"gridcolor\":\"#EBF0F8\",\"linecolor\":\"#EBF0F8\",\"ticks\":\"\"},\"bgcolor\":\"white\",\"radialaxis\":{\"gridcolor\":\"#EBF0F8\",\"linecolor\":\"#EBF0F8\",\"ticks\":\"\"}},\"scene\":{\"xaxis\":{\"backgroundcolor\":\"white\",\"gridcolor\":\"#DFE8F3\",\"gridwidth\":2,\"linecolor\":\"#EBF0F8\",\"showbackground\":true,\"ticks\":\"\",\"zerolinecolor\":\"#EBF0F8\"},\"yaxis\":{\"backgroundcolor\":\"white\",\"gridcolor\":\"#DFE8F3\",\"gridwidth\":2,\"linecolor\":\"#EBF0F8\",\"showbackground\":true,\"ticks\":\"\",\"zerolinecolor\":\"#EBF0F8\"},\"zaxis\":{\"backgroundcolor\":\"white\",\"gridcolor\":\"#DFE8F3\",\"gridwidth\":2,\"linecolor\":\"#EBF0F8\",\"showbackground\":true,\"ticks\":\"\",\"zerolinecolor\":\"#EBF0F8\"}},\"shapedefaults\":{\"line\":{\"color\":\"#2a3f5f\"}},\"ternary\":{\"aaxis\":{\"gridcolor\":\"#DFE8F3\",\"linecolor\":\"#A2B1C6\",\"ticks\":\"\"},\"baxis\":{\"gridcolor\":\"#DFE8F3\",\"linecolor\":\"#A2B1C6\",\"ticks\":\"\"},\"bgcolor\":\"white\",\"caxis\":{\"gridcolor\":\"#DFE8F3\",\"linecolor\":\"#A2B1C6\",\"ticks\":\"\"}},\"title\":{\"x\":0.05},\"xaxis\":{\"automargin\":true,\"gridcolor\":\"#EBF0F8\",\"linecolor\":\"#EBF0F8\",\"ticks\":\"\",\"title\":{\"standoff\":15},\"zerolinecolor\":\"#EBF0F8\",\"zerolinewidth\":2},\"yaxis\":{\"automargin\":true,\"gridcolor\":\"#EBF0F8\",\"linecolor\":\"#EBF0F8\",\"ticks\":\"\",\"title\":{\"standoff\":15},\"zerolinecolor\":\"#EBF0F8\",\"zerolinewidth\":2}}},\"xaxis\":{\"anchor\":\"y\",\"domain\":[0.0,1.0],\"title\":{\"text\":\"Segment\"}},\"yaxis\":{\"anchor\":\"x\",\"domain\":[0.0,1.0],\"title\":{\"text\":\"Count\"}},\"legend\":{\"tracegroupgap\":0},\"title\":{\"text\":\"Counts by Segment\"},\"barmode\":\"relative\",\"height\":600},                        {\"responsive\": true}                    ).then(function(){\n                            \nvar gd = document.getElementById('caa7d392-305a-48d4-8c69-b8a3acb7fa18');\nvar x = new MutationObserver(function (mutations, observer) {{\n        var display = window.getComputedStyle(gd).display;\n        if (!display || display === 'none') {{\n            console.log([gd, 'removed!']);\n            Plotly.purge(gd);\n            observer.disconnect();\n        }}\n}});\n\n// Listen for the removal of the full notebook cells\nvar notebookContainer = gd.closest('#notebook-container');\nif (notebookContainer) {{\n    x.observe(notebookContainer, {childList: true});\n}}\n\n// Listen for the clearing of the current output cell\nvar outputEl = gd.closest('.output');\nif (outputEl) {{\n    x.observe(outputEl, {childList: true});\n}}\n\n                        })                };                });            </script>        </div>"
     },
     "metadata": {},
     "output_type": "display_data"
    }
   ],
   "source": [
    "# Create the bar chart\n",
    "fig = px.bar(segment_counts, x='Segment', y='Count', orientation='v',\n",
    "             title='Counts by Segment',\n",
    "             template='plotly_white')  # Set background color to white\n",
    "\n",
    "# Update layout to change the height of the plot\n",
    "fig.update_layout(\n",
    "    height=600  # Specify the height in pixels\n",
    ")\n",
    "\n",
    "# Show the plot\n",
    "fig.show()"
   ],
   "metadata": {
    "collapsed": false,
    "ExecuteTime": {
     "end_time": "2024-06-03T22:27:27.683369Z",
     "start_time": "2024-06-03T22:27:27.497002500Z"
    }
   },
   "id": "1820c66c4bed52ca"
  },
  {
   "cell_type": "code",
   "execution_count": null,
   "outputs": [],
   "source": [],
   "metadata": {
    "collapsed": false
   },
   "id": "1bd40393f263f0d3"
  }
 ],
 "metadata": {
  "kernelspec": {
   "display_name": "Python 3",
   "language": "python",
   "name": "python3"
  },
  "language_info": {
   "codemirror_mode": {
    "name": "ipython",
    "version": 2
   },
   "file_extension": ".py",
   "mimetype": "text/x-python",
   "name": "python",
   "nbconvert_exporter": "python",
   "pygments_lexer": "ipython2",
   "version": "2.7.6"
  }
 },
 "nbformat": 4,
 "nbformat_minor": 5
}
