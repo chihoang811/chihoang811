{
 "cells": [
  {
   "cell_type": "code",
   "execution_count": 1,
   "id": "initial_id",
   "metadata": {
    "collapsed": true,
    "ExecuteTime": {
     "end_time": "2025-02-13T19:58:28.140707400Z",
     "start_time": "2025-02-13T19:58:26.403475800Z"
    }
   },
   "outputs": [],
   "source": [
    "# import the libraries\n",
    "import pandas as pd\n",
    "import numpy as np"
   ]
  },
  {
   "cell_type": "code",
   "execution_count": 2,
   "outputs": [
    {
     "name": "stdout",
     "output_type": "stream",
     "text": [
      "<class 'pandas.core.frame.DataFrame'>\n",
      "RangeIndex: 61069 entries, 0 to 61068\n",
      "Data columns (total 21 columns):\n",
      " #   Column                Non-Null Count  Dtype  \n",
      "---  ------                --------------  -----  \n",
      " 0   class                 61069 non-null  object \n",
      " 1   cap-diameter          61069 non-null  float64\n",
      " 2   cap-shape             61069 non-null  object \n",
      " 3   cap-surface           46949 non-null  object \n",
      " 4   cap-color             61069 non-null  object \n",
      " 5   does-bruise-or-bleed  61069 non-null  object \n",
      " 6   gill-attachment       51185 non-null  object \n",
      " 7   gill-spacing          36006 non-null  object \n",
      " 8   gill-color            61069 non-null  object \n",
      " 9   stem-height           61069 non-null  float64\n",
      " 10  stem-width            61069 non-null  float64\n",
      " 11  stem-root             9531 non-null   object \n",
      " 12  stem-surface          22945 non-null  object \n",
      " 13  stem-color            61069 non-null  object \n",
      " 14  veil-type             3177 non-null   object \n",
      " 15  veil-color            7413 non-null   object \n",
      " 16  has-ring              61069 non-null  object \n",
      " 17  ring-type             58598 non-null  object \n",
      " 18  spore-print-color     6354 non-null   object \n",
      " 19  habitat               61069 non-null  object \n",
      " 20  season                61069 non-null  object \n",
      "dtypes: float64(3), object(18)\n",
      "memory usage: 9.8+ MB\n"
     ]
    }
   ],
   "source": [
    "# import the dataset\n",
    "df = pd.read_csv(\"original_dataset.csv\")\n",
    "df.info()"
   ],
   "metadata": {
    "collapsed": false,
    "ExecuteTime": {
     "end_time": "2025-02-13T19:58:29.138672900Z",
     "start_time": "2025-02-13T19:58:28.891505300Z"
    }
   },
   "id": "27cf14b2a563a3e4"
  },
  {
   "cell_type": "code",
   "execution_count": 3,
   "outputs": [
    {
     "name": "stdout",
     "output_type": "stream",
     "text": [
      "class                       0\n",
      "cap-diameter                0\n",
      "cap-shape                   0\n",
      "cap-surface             14120\n",
      "cap-color                   0\n",
      "does-bruise-or-bleed        0\n",
      "gill-attachment          9884\n",
      "gill-spacing            25063\n",
      "gill-color                  0\n",
      "stem-height                 0\n",
      "stem-width                  0\n",
      "stem-root               51538\n",
      "stem-surface            38124\n",
      "stem-color                  0\n",
      "veil-type               57892\n",
      "veil-color              53656\n",
      "has-ring                    0\n",
      "ring-type                2471\n",
      "spore-print-color       54715\n",
      "habitat                     0\n",
      "season                      0\n",
      "dtype: int64\n"
     ]
    }
   ],
   "source": [
    "# checking the missing data\n",
    "missing_data = df.isnull().sum()\n",
    "print(missing_data)"
   ],
   "metadata": {
    "collapsed": false,
    "ExecuteTime": {
     "end_time": "2025-02-13T19:58:29.826654600Z",
     "start_time": "2025-02-13T19:58:29.753257800Z"
    }
   },
   "id": "d6ccbc8d87888cea"
  },
  {
   "cell_type": "code",
   "execution_count": 4,
   "outputs": [
    {
     "name": "stdout",
     "output_type": "stream",
     "text": [
      "class                   0\n",
      "cap-diameter            0\n",
      "cap-shape               0\n",
      "cap-surface             0\n",
      "cap-color               0\n",
      "does-bruise-or-bleed    0\n",
      "gill-attachment         0\n",
      "gill-color              0\n",
      "stem-height             0\n",
      "stem-width              0\n",
      "stem-color              0\n",
      "has-ring                0\n",
      "ring-type               0\n",
      "habitat                 0\n",
      "season                  0\n",
      "dtype: int64\n"
     ]
    }
   ],
   "source": [
    "# keep the columns which have the number of NAN values less than 30 percent\n",
    "df_no_nan = df.loc[:, missing_data <= (len(df)*0.3)]\n",
    "\n",
    "# Remove the rows which have NAN values\n",
    "df_no_nan = df_no_nan.dropna()\n",
    "\n",
    "# checking the missing data after removing the columns\n",
    "missing_dropped = df_no_nan.isnull().sum()\n",
    "print(missing_dropped)"
   ],
   "metadata": {
    "collapsed": false,
    "ExecuteTime": {
     "end_time": "2025-02-13T19:58:30.392390300Z",
     "start_time": "2025-02-13T19:58:30.287120800Z"
    }
   },
   "id": "7e4682700b548600"
  },
  {
   "cell_type": "code",
   "execution_count": 5,
   "outputs": [
    {
     "name": "stdout",
     "output_type": "stream",
     "text": [
      "<bound method NDFrame.head of       class  cap-diameter cap-shape cap-surface cap-color  \\\n",
      "0         p         15.26         x           g         o   \n",
      "1         p         16.60         x           g         o   \n",
      "2         p         14.07         x           g         o   \n",
      "3         p         14.17         f           h         e   \n",
      "4         p         14.64         x           h         o   \n",
      "...     ...           ...       ...         ...       ...   \n",
      "61064     p          1.18         s           s         y   \n",
      "61065     p          1.27         f           s         y   \n",
      "61066     p          1.27         s           s         y   \n",
      "61067     p          1.24         f           s         y   \n",
      "61068     p          1.17         s           s         y   \n",
      "\n",
      "      does-bruise-or-bleed gill-attachment gill-color  stem-height  \\\n",
      "0                        f               e          w        16.95   \n",
      "1                        f               e          w        17.99   \n",
      "2                        f               e          w        17.80   \n",
      "3                        f               e          w        15.77   \n",
      "4                        f               e          w        16.53   \n",
      "...                    ...             ...        ...          ...   \n",
      "61064                    f               f          f         3.93   \n",
      "61065                    f               f          f         3.18   \n",
      "61066                    f               f          f         3.86   \n",
      "61067                    f               f          f         3.56   \n",
      "61068                    f               f          f         3.25   \n",
      "\n",
      "       stem-width stem-color has-ring ring-type habitat season  \n",
      "0           17.09          w        t         g       d      w  \n",
      "1           18.19          w        t         g       d      u  \n",
      "2           17.74          w        t         g       d      w  \n",
      "3           15.98          w        t         p       d      w  \n",
      "4           17.20          w        t         p       d      w  \n",
      "...           ...        ...      ...       ...     ...    ...  \n",
      "61064        6.22          y        f         f       d      a  \n",
      "61065        5.43          y        f         f       d      a  \n",
      "61066        6.37          y        f         f       d      u  \n",
      "61067        5.44          y        f         f       d      u  \n",
      "61068        5.45          y        f         f       d      u  \n",
      "\n",
      "[37065 rows x 15 columns]>\n"
     ]
    }
   ],
   "source": [
    "# print the dataset\n",
    "print(df_no_nan.head)"
   ],
   "metadata": {
    "collapsed": false,
    "ExecuteTime": {
     "end_time": "2025-02-13T19:58:30.910564800Z",
     "start_time": "2025-02-13T19:58:30.883516400Z"
    }
   },
   "id": "d79233ce3b2a8957"
  },
  {
   "cell_type": "code",
   "execution_count": 6,
   "outputs": [
    {
     "name": "stdout",
     "output_type": "stream",
     "text": [
      "Predictors: [[15.26 'x' 'g' ... 'g' 'd' 'w']\n",
      " [16.6 'x' 'g' ... 'g' 'd' 'u']\n",
      " [14.07 'x' 'g' ... 'g' 'd' 'w']\n",
      " ...\n",
      " [1.27 's' 's' ... 'f' 'd' 'u']\n",
      " [1.24 'f' 's' ... 'f' 'd' 'u']\n",
      " [1.17 's' 's' ... 'f' 'd' 'u']]\n",
      "Target value: ['p' 'p' 'p' ... 'p' 'p' 'p']\n"
     ]
    }
   ],
   "source": [
    "# identify X (predictors) and y (target variable)\n",
    "X = df_no_nan.iloc[:, 1:].values\n",
    "y = df_no_nan.iloc[:,0].values\n",
    "print(\"Predictors:\", X)\n",
    "print(\"Target value:\", y)"
   ],
   "metadata": {
    "collapsed": false,
    "ExecuteTime": {
     "end_time": "2025-02-13T19:58:31.633818800Z",
     "start_time": "2025-02-13T19:58:31.592108700Z"
    }
   },
   "id": "64edf1f62491b88d"
  },
  {
   "cell_type": "code",
   "execution_count": 7,
   "outputs": [
    {
     "name": "stderr",
     "output_type": "stream",
     "text": [
      "C:\\Users\\Admin\\AppData\\Local\\Programs\\Python\\Python312\\Lib\\site-packages\\sklearn\\preprocessing\\_encoders.py:975: FutureWarning: `sparse` was renamed to `sparse_output` in version 1.2 and will be removed in 1.4. `sparse_output` is ignored unless you leave `sparse` to its default value.\n",
      "  warnings.warn(\n"
     ]
    },
    {
     "name": "stdout",
     "output_type": "stream",
     "text": [
      "[[0.0 0.0 0.0 ... 15.26 16.95 17.09]\n",
      " [0.0 0.0 0.0 ... 16.6 17.99 18.19]\n",
      " [0.0 0.0 0.0 ... 14.07 17.8 17.74]\n",
      " ...\n",
      " [0.0 0.0 0.0 ... 1.27 3.86 6.37]\n",
      " [0.0 0.0 1.0 ... 1.24 3.56 5.44]\n",
      " [0.0 0.0 0.0 ... 1.17 3.25 5.45]]\n"
     ]
    }
   ],
   "source": [
    "# identify the categorical attributes in X\n",
    "X_categorical_cols = [1, 2, 3, 4, 5, 6, 9, 10, 11, 12, 13]\n",
    "\n",
    "# encode the categorical variables in X (predictors) using OneHotEncoding\n",
    "from sklearn.compose import ColumnTransformer\n",
    "from sklearn.preprocessing import OneHotEncoder\n",
    "ct = ColumnTransformer(transformers=[('encoder', OneHotEncoder(sparse=False), X_categorical_cols)], remainder='passthrough')\n",
    "X = np.array(ct.fit_transform(X))\n",
    "print(X)"
   ],
   "metadata": {
    "collapsed": false,
    "ExecuteTime": {
     "end_time": "2025-02-13T19:58:35.405480700Z",
     "start_time": "2025-02-13T19:58:32.211540400Z"
    }
   },
   "id": "31ba2af23e75d384"
  },
  {
   "cell_type": "code",
   "execution_count": 8,
   "outputs": [
    {
     "name": "stdout",
     "output_type": "stream",
     "text": [
      "[1 1 1 ... 1 1 1]\n"
     ]
    }
   ],
   "source": [
    "# encode the binary target variables (y)\n",
    "from sklearn.preprocessing import LabelEncoder\n",
    "le = LabelEncoder()\n",
    "y = le.fit_transform(y)\n",
    "print(y)"
   ],
   "metadata": {
    "collapsed": false,
    "ExecuteTime": {
     "end_time": "2025-02-13T19:58:35.421901600Z",
     "start_time": "2025-02-13T19:58:35.407479200Z"
    }
   },
   "id": "f097921a77429fc9"
  },
  {
   "cell_type": "code",
   "execution_count": 9,
   "outputs": [],
   "source": [
    "from Mushroom_project.Tree import train_test_split\n",
    "# apply the train_test_split function to split the data\n",
    "X_train, X_test, y_train, y_test = train_test_split(X,y,test_size=0.2, random_state=42)"
   ],
   "metadata": {
    "collapsed": false,
    "ExecuteTime": {
     "end_time": "2025-02-13T19:58:35.515281400Z",
     "start_time": "2025-02-13T19:58:35.422900100Z"
    }
   },
   "id": "b5c9fa63aaaebbc"
  },
  {
   "cell_type": "code",
   "execution_count": 20,
   "outputs": [],
   "source": [
    "from Mushroom_project.Tree import DecisionTreeClassifier\n",
    "classifier = DecisionTreeClassifier(min_samples=2, max_depths=5)"
   ],
   "metadata": {
    "collapsed": false,
    "ExecuteTime": {
     "end_time": "2025-02-13T20:51:45.438217700Z",
     "start_time": "2025-02-13T20:51:45.286450800Z"
    }
   },
   "id": "6b0d623547850977"
  },
  {
   "cell_type": "code",
   "execution_count": null,
   "outputs": [],
   "source": [
    "classifier.fit(X_train, y_train)"
   ],
   "metadata": {
    "collapsed": false,
    "is_executing": true,
    "ExecuteTime": {
     "start_time": "2025-02-13T20:51:45.934873600Z"
    }
   },
   "id": "52100a478dfe8074"
  },
  {
   "cell_type": "code",
   "execution_count": 14,
   "outputs": [
    {
     "name": "stdout",
     "output_type": "stream",
     "text": [
      "Training Error: 0.2280\n",
      "Testing Error: 0.2297\n"
     ]
    }
   ],
   "source": [
    "# calculate train error and test error\n",
    "train_error = classifier.zero_one_loss(X_train, y_train)\n",
    "test_error = classifier.zero_one_loss(X_test, y_test)\n",
    "\n",
    "print(f\"Training Error: {train_error:.4f}\")\n",
    "print(f\"Testing Error: {test_error:.4f}\")"
   ],
   "metadata": {
    "collapsed": false,
    "ExecuteTime": {
     "end_time": "2025-02-13T20:25:51.253264800Z",
     "start_time": "2025-02-13T20:25:51.155395100Z"
    }
   },
   "id": "79c3daa4aecf8ef4"
  },
  {
   "cell_type": "code",
   "execution_count": 15,
   "outputs": [
    {
     "name": "stdout",
     "output_type": "stream",
     "text": [
      "Training Accuracy: 0.7720\n",
      "Testing Accuracy: 0.7703\n"
     ]
    }
   ],
   "source": [
    "# calculate train accuracy and test accuracy\n",
    "y_train_pred = classifier.predict(X_train)\n",
    "y_test_pred = classifier.predict(X_test)\n",
    "train_accuracy = classifier.accuracy(y_train, y_train_pred)\n",
    "test_accuracy = classifier.accuracy(y_test, y_test_pred)\n",
    "\n",
    "print(f\"Training Accuracy: {train_accuracy:.4f}\")\n",
    "print(f\"Testing Accuracy: {test_accuracy:.4f}\")"
   ],
   "metadata": {
    "collapsed": false,
    "ExecuteTime": {
     "end_time": "2025-02-13T20:25:53.127494200Z",
     "start_time": "2025-02-13T20:25:53.029155300Z"
    }
   },
   "id": "2d99d910fff87d3a"
  },
  {
   "cell_type": "markdown",
   "source": [
    "#### Hyperparameter Tuning"
   ],
   "metadata": {
    "collapsed": false
   },
   "id": "938a1958230e172f"
  },
  {
   "cell_type": "code",
   "execution_count": null,
   "outputs": [],
   "source": [
    "param_grid = {\n",
    "    'max_depth': [5, 10, 15, 20, 25, 30],\n",
    "    'min_samples_split': [5, 10, 15, 20],\n",
    "    'criterion': ['gini', 'entropy', 'chi_square']\n",
    "}"
   ],
   "metadata": {
    "collapsed": false
   },
   "id": "1541d00669429018"
  },
  {
   "cell_type": "code",
   "execution_count": null,
   "outputs": [],
   "source": [
    "from Mushroom_project.Tree import grid_search_cv\n",
    "best_params, best_accuracy_score = grid_search_cv(classifier=classifier, param_grid=param_grid, X_train=X_train, y_train=y_train, cv=5, n_jobs=-1)\n",
    "print(\"Best parameters: \", best_params)\n",
    "print(\"Best cross-validation score: \", best_accuracy_score)"
   ],
   "metadata": {
    "collapsed": false
   },
   "id": "7644cee4dbd267cd"
  },
  {
   "cell_type": "code",
   "execution_count": null,
   "outputs": [],
   "source": [
    "better_classifier = DecisionTreeClassifier(min_samples=, max_depths=,criterion='')"
   ],
   "metadata": {
    "collapsed": false
   },
   "id": "82ff73d83c97edaa"
  }
 ],
 "metadata": {
  "kernelspec": {
   "display_name": "Python 3",
   "language": "python",
   "name": "python3"
  },
  "language_info": {
   "codemirror_mode": {
    "name": "ipython",
    "version": 2
   },
   "file_extension": ".py",
   "mimetype": "text/x-python",
   "name": "python",
   "nbconvert_exporter": "python",
   "pygments_lexer": "ipython2",
   "version": "2.7.6"
  }
 },
 "nbformat": 4,
 "nbformat_minor": 5
}
