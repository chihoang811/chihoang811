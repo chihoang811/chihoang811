{
 "cells": [
  {
   "cell_type": "code",
   "execution_count": null,
   "id": "initial_id",
   "metadata": {
    "collapsed": true
   },
   "outputs": [],
   "source": [
    "# import the libraries\n",
    "import pandas as pd\n",
    "import numpy as np"
   ]
  },
  {
   "cell_type": "code",
   "execution_count": null,
   "outputs": [],
   "source": [
    "# import the dataset\n",
    "df = pd.read_csv(\"original_dataset.csv\")\n",
    "df.info()"
   ],
   "metadata": {
    "collapsed": false
   },
   "id": "27cf14b2a563a3e4"
  },
  {
   "cell_type": "code",
   "execution_count": null,
   "outputs": [],
   "source": [
    "# checking the missing data\n",
    "missing_data = df.isnull().sum()\n",
    "print(missing_data)"
   ],
   "metadata": {
    "collapsed": false
   },
   "id": "d6ccbc8d87888cea"
  },
  {
   "cell_type": "code",
   "execution_count": null,
   "outputs": [],
   "source": [
    "# keep the columns which have the number of NAN values less than 30 percent\n",
    "df_no_nan = df.loc[:, missing_data <= (len(df)*0.3)]\n",
    "\n",
    "# Remove the rows which have NAN values\n",
    "df_no_nan = df_no_nan.dropna()\n",
    "\n",
    "# checking the missing data after removing the columns\n",
    "missing_dropped = df_no_nan.isnull().sum()\n",
    "print(missing_dropped)"
   ],
   "metadata": {
    "collapsed": false
   },
   "id": "7e4682700b548600"
  },
  {
   "cell_type": "code",
   "execution_count": null,
   "outputs": [],
   "source": [
    "# print the dataset\n",
    "print(df_no_nan.head)"
   ],
   "metadata": {
    "collapsed": false
   },
   "id": "d79233ce3b2a8957"
  },
  {
   "cell_type": "code",
   "execution_count": null,
   "outputs": [],
   "source": [
    "# identify X (predictors) and y (target variable)\n",
    "X = df_no_nan.iloc[:, 1:].values\n",
    "y = df_no_nan.iloc[:,0].values\n",
    "print(\"Predictors:\", X)\n",
    "print(\"Target value:\", y)"
   ],
   "metadata": {
    "collapsed": false
   },
   "id": "64edf1f62491b88d"
  },
  {
   "cell_type": "code",
   "execution_count": null,
   "outputs": [],
   "source": [
    "# identify the categorical attributes in X\n",
    "X_categorical_cols = [1, 2, 3, 4, 5, 6, 9, 10, 11, 12, 13]\n",
    "\n",
    "# encode the categorical variables in X (predictors) using OneHotEncoding\n",
    "from sklearn.compose import ColumnTransformer\n",
    "from sklearn.preprocessing import OneHotEncoder\n",
    "ct = ColumnTransformer(transformers=[('encoder', OneHotEncoder(sparse=False), X_categorical_cols)], remainder='passthrough')\n",
    "X = np.array(ct.fit_transform(X))\n",
    "print(X)"
   ],
   "metadata": {
    "collapsed": false
   },
   "id": "31ba2af23e75d384"
  },
  {
   "cell_type": "code",
   "execution_count": null,
   "outputs": [],
   "source": [
    "# encode the binary target variables (y)\n",
    "from sklearn.preprocessing import LabelEncoder\n",
    "le = LabelEncoder()\n",
    "y = le.fit_transform(y)\n",
    "print(y)"
   ],
   "metadata": {
    "collapsed": false
   },
   "id": "f097921a77429fc9"
  },
  {
   "cell_type": "code",
   "execution_count": null,
   "outputs": [],
   "source": [
    "from Mushroom_project.Tree import train_test_split\n",
    "# apply the train_test_split function to split the data\n",
    "X_train, X_test, y_train, y_test = train_test_split(X,y,test_size=0.2, random_state=42)"
   ],
   "metadata": {
    "collapsed": false
   },
   "id": "b5c9fa63aaaebbc"
  },
  {
   "cell_type": "code",
   "execution_count": null,
   "outputs": [],
   "source": [
    "from Mushroom_project.Tree import DecisionTreeClassifier\n",
    "classifier = DecisionTreeClassifier(min_samples=2, max_depths=5)"
   ],
   "metadata": {
    "collapsed": false
   },
   "id": "6b0d623547850977"
  },
  {
   "cell_type": "code",
   "execution_count": null,
   "outputs": [],
   "source": [
    "classifier.fit(X_train, y_train)"
   ],
   "metadata": {
    "collapsed": false
   },
   "id": "52100a478dfe8074"
  },
  {
   "cell_type": "code",
   "execution_count": null,
   "outputs": [],
   "source": [
    "# calculate train error and test error\n",
    "train_error = classifier.zero_one_loss(X_train, y_train)\n",
    "test_error = classifier.zero_one_loss(X_test, y_test)\n",
    "\n",
    "print(f\"Training Error: {train_error:.4f}\")\n",
    "print(f\"Testing Error: {test_error:.4f}\")"
   ],
   "metadata": {
    "collapsed": false
   },
   "id": "79c3daa4aecf8ef4"
  },
  {
   "cell_type": "code",
   "execution_count": null,
   "outputs": [],
   "source": [
    "# calculate train accuracy and test accuracy\n",
    "y_train_pred = classifier.predict(X_train)\n",
    "y_test_pred = classifier.predict(X_test)\n",
    "train_accuracy = classifier.accuracy(y_train, y_train_pred)\n",
    "test_accuracy = classifier.accuracy(y_test, y_test_pred)\n",
    "\n",
    "print(f\"Training Accuracy: {train_accuracy:.4f}\")\n",
    "print(f\"Testing Accuracy: {test_accuracy:.4f}\")"
   ],
   "metadata": {
    "collapsed": false
   },
   "id": "2d99d910fff87d3a"
  },
  {
   "cell_type": "code",
   "execution_count": null,
   "outputs": [],
   "source": [
    "import matplotlib.pyplot as plt\n",
    "# Initialize lists to store results\n",
    "train_error = []\n",
    "train_accuracy = []\n",
    "test_error = []\n",
    "test_accuracy = []\n",
    "for max_depth in range(1, 30):\n",
    "    train_error.append(train_error)\n",
    "    train_accuracy.append(train_accuracy)\n",
    "    test_error.append(test_error)\n",
    "    test_accuracy.append(test_accuracy)\n",
    "\n",
    "plt.plot(train_error, label=\"Train Error\")\n",
    "plt.plot(test_error, label=\"Test Error\")\n",
    "plt.xlabel(\"Max depth\")\n",
    "plt.ylabel(\"0-1 Loss\")\n",
    "plt.legend()\n",
    "plt.show()"
   ],
   "metadata": {
    "collapsed": false
   },
   "id": "4b78c0b5f54e7611"
  },
  {
   "cell_type": "code",
   "execution_count": null,
   "outputs": [],
   "source": [
    "plt.plot(range(1, 50), train_accuracy, label=\"Train accuracy\")\n",
    "plt.plot(range(1, 50), test_accuracy, label=\"Test accuracy\")\n",
    "plt.xlabel(\"Max depth\")\n",
    "plt.ylabel(\"Accuracy\")\n",
    "plt.legend()\n",
    "plt.show()"
   ],
   "metadata": {
    "collapsed": false
   },
   "id": "5bcc86fe6e3b6a69"
  },
  {
   "cell_type": "markdown",
   "source": [
    "#### Hyperparameter Tuning"
   ],
   "metadata": {
    "collapsed": false
   },
   "id": "938a1958230e172f"
  },
  {
   "cell_type": "code",
   "execution_count": null,
   "outputs": [],
   "source": [
    "param_grid = {\n",
    "    'max_depth': [2, 5, 10, 15, 20],\n",
    "    'min_samples_split': [2, 5, 10, 15, 10],\n",
    "    'criterion': ['gini', 'entropy', 'chi_square']\n",
    "}"
   ],
   "metadata": {
    "collapsed": false
   },
   "id": "1541d00669429018"
  },
  {
   "cell_type": "code",
   "execution_count": null,
   "outputs": [],
   "source": [
    "from Mushroom_project.Tree import grid_search_cv\n",
    "best_params, best_accuracy_score = grid_search_cv(classifier=classifier, param_grid=param_grid, X_train=X_train, y_train=y_train, cv=5, n_jobs=-1)\n",
    "print(\"Best parameters: \", best_params)\n",
    "print(\"Best cross-validation score: \", best_accuracy_score)"
   ],
   "metadata": {
    "collapsed": false
   },
   "id": "7644cee4dbd267cd"
  },
  {
   "cell_type": "code",
   "execution_count": null,
   "outputs": [],
   "source": [
    "better_classifier = DecisionTreeClassifier(min_samples=, max_depths=,criterion='')"
   ],
   "metadata": {
    "collapsed": false
   },
   "id": "82ff73d83c97edaa"
  }
 ],
 "metadata": {
  "kernelspec": {
   "display_name": "Python 3",
   "language": "python",
   "name": "python3"
  },
  "language_info": {
   "codemirror_mode": {
    "name": "ipython",
    "version": 2
   },
   "file_extension": ".py",
   "mimetype": "text/x-python",
   "name": "python",
   "nbconvert_exporter": "python",
   "pygments_lexer": "ipython2",
   "version": "2.7.6"
  }
 },
 "nbformat": 4,
 "nbformat_minor": 5
}
